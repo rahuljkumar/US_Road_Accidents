{
 "cells": [
  {
   "cell_type": "markdown",
   "metadata": {},
   "source": [
    "### This  Notebook is for cleansing the dataset and building and evaluating the model"
   ]
  },
  {
   "cell_type": "markdown",
   "metadata": {},
   "source": [
    "Importing the required modules"
   ]
  },
  {
   "cell_type": "code",
   "execution_count": 2,
   "metadata": {},
   "outputs": [],
   "source": [
    "#Basic Import\n",
    "import pandas as pd\n",
    "import numpy as np\n",
    "import dask.dataframe as dd\n",
    "\n",
    "from dask_ml.model_selection import train_test_split\n",
    "\n",
    "#Importing Train Test Split and GridSearchCV for hyperparamater tuning\n",
    "from sklearn.model_selection import GridSearchCV\n",
    "\n",
    "#Importing the CatBoostClassifier\n",
    "from catboost import CatBoostClassifier, Pool\n",
    "\n",
    "#Importing model evaluation metrics\n",
    "from sklearn.metrics import accuracy_score, classification_report\n",
    "\n",
    "from sklearn.preprocessing import LabelEncoder\n",
    "\n"
   ]
  },
  {
   "cell_type": "markdown",
   "metadata": {},
   "source": [
    "Importing the Dataset from the local CSV file"
   ]
  },
  {
   "cell_type": "code",
   "execution_count": 3,
   "metadata": {},
   "outputs": [],
   "source": [
    "df1=dd.read_csv('US_Accidents_March23.csv')"
   ]
  },
  {
   "cell_type": "code",
   "execution_count": 4,
   "metadata": {},
   "outputs": [
    {
     "name": "stdout",
     "output_type": "stream",
     "text": [
      "<class 'dask.dataframe.core.DataFrame'>\n",
      "Columns: 46 entries, ID to Astronomical_Twilight\n",
      "dtypes: object(20), bool(13), float64(12), int64(1)"
     ]
    }
   ],
   "source": [
    "df1.info()"
   ]
  },
  {
   "cell_type": "markdown",
   "metadata": {},
   "source": [
    "We are going to use the CatBoostClassifier to train the model.\n",
    "\n",
    "It does not require the numerical variables of the dataset to be scaled"
   ]
  },
  {
   "cell_type": "markdown",
   "metadata": {},
   "source": [
    "The following columns can be dropped from the Dataset:\n",
    "\n",
    "- ID: Does not serve any purpose other than identification\n",
    "- Source: The Source from which the data is sourced. It does not contribute to the Severity\n",
    "- End_Lat: Significant number of values are NaN. Also has 100% correlation to Start_Lat\n",
    "- End_Lng: Significant number of values are NaN. Also has 100% correlation to Start_Lng\n",
    "- Description: It is a text field that describes the accident. Description cannot be used to predict the Severity\n",
    "- Street: This information will already be captured in the Latitude and Longitude\n",
    "- City: This information will already be captured in the Latitude and Longitude\n",
    "- County: This information will already be captured in the Latitude and Longitude\n",
    "- State: This information will already be captured in the Latitude and Longitude\n",
    "- Zipcode: This information will already be captured in the Latitude and Longitude\n",
    "- Country: Has no Variance at all. All the values are 'US' since the dataset pertains to the US\n",
    "- Timezone: This information will already be captured in the Latitude and Longitude\n",
    "- Amenity: Has extremely low Variance\n",
    "- Bump: Has extremely low Variance\n",
    "- Crossing: Has extremely low Variance\n",
    "- Give_Way: Has extremely low Variance\n",
    "- Junction: Has extremely low Variance\n",
    "- No_Exit: Has extremely low Variance\n",
    "- Railway: Has extremely low Variance\n",
    "- Roundabout: Has extremely low Variance\n",
    "- Station: Has extremely low Variance\n",
    "- Stop: Has extremely low Variance\n",
    "- Traffic_Calming: Has extremely low Variance\n",
    "- Traffic_Signal: Has extremely low Variance\n",
    "- Turning_Loop: Has no Variance at all. All the values are False\n",
    "- Sunrise_Sunset: This information is already captured in the Start_Time and End_Time features\n",
    "- Civil_Twilight: This information is already captured in the Start_Time and End_Time features\n",
    "- Nautical_Twilight: This information is already captured in the Start_Time and End_Time features\n",
    "- Astronomical_Twilight: This information is already captured in the Start_Time and End_Time features\n",
    "- Wind_Chill(F): Has nearly 2 Million NaN records and a 99% positive correlation with Temperature"
   ]
  },
  {
   "cell_type": "code",
   "execution_count": 5,
   "metadata": {},
   "outputs": [],
   "source": [
    "columns_to_drop = ['ID',\n",
    "'Source',\n",
    "'End_Lat',\n",
    "'End_Lng',\n",
    "'Description',\n",
    "'Street',\n",
    "'City',\n",
    "'County',\n",
    "'State',\n",
    "'Zipcode',\n",
    "'Country',\n",
    "'Timezone',\n",
    "'Wind_Chill(F)',\n",
    "'Amenity',\n",
    "'Bump',\n",
    "'Crossing',\n",
    "'Give_Way',\n",
    "'Junction',\n",
    "'No_Exit',\n",
    "'Railway',\n",
    "'Roundabout',\n",
    "'Station',\n",
    "'Stop',\n",
    "'Traffic_Calming',\n",
    "'Traffic_Signal',\n",
    "'Turning_Loop',\n",
    "'Sunrise_Sunset',\n",
    "'Civil_Twilight',\n",
    "'Nautical_Twilight',\n",
    "'Astronomical_Twilight'\n",
    "]"
   ]
  },
  {
   "cell_type": "code",
   "execution_count": 6,
   "metadata": {},
   "outputs": [],
   "source": [
    "#Dropping the features that are not required from the Dataset\n",
    "df1=df1.drop(columns_to_drop,axis=1)"
   ]
  },
  {
   "cell_type": "code",
   "execution_count": 7,
   "metadata": {},
   "outputs": [
    {
     "name": "stdout",
     "output_type": "stream",
     "text": [
      "Number of rows in the dataset: 7728394\n",
      "Number of columns in the dataset: 16\n"
     ]
    }
   ],
   "source": [
    "#Checking the shape of the Dataset after dropping the unneccessary columns\n",
    "shape=df1.shape\n",
    "print(\"Number of rows in the dataset:\",shape[0].compute())\n",
    "print(\"Number of columns in the dataset:\",shape[1])"
   ]
  },
  {
   "cell_type": "markdown",
   "metadata": {},
   "source": [
    "Dropping the records which have NaN values"
   ]
  },
  {
   "cell_type": "code",
   "execution_count": 8,
   "metadata": {},
   "outputs": [],
   "source": [
    "df1=df1.dropna()"
   ]
  },
  {
   "cell_type": "code",
   "execution_count": 9,
   "metadata": {},
   "outputs": [
    {
     "name": "stdout",
     "output_type": "stream",
     "text": [
      "Number of rows in the dataset: 5391216\n",
      "Number of columns in the dataset: 16\n"
     ]
    }
   ],
   "source": [
    "#Checking the shape of the Dataset after dropping the Nan values\n",
    "shape=df1.shape\n",
    "print(\"Number of rows in the dataset:\",shape[0].compute())\n",
    "print(\"Number of columns in the dataset:\",shape[1])"
   ]
  },
  {
   "cell_type": "markdown",
   "metadata": {},
   "source": [
    "We still have a significant number of records even after dropping the NaN values"
   ]
  },
  {
   "cell_type": "code",
   "execution_count": 10,
   "metadata": {},
   "outputs": [],
   "source": [
    "#Defining a list of columns where the date format must be in datetime64[ns]\n",
    "date_columns = ['Start_Time', 'End_Time', 'Weather_Timestamp']"
   ]
  },
  {
   "cell_type": "markdown",
   "metadata": {},
   "source": [
    "Dask has read the Start_Time, End_Time and Weather_Timestamp as object datatype. Let us convert them into Date format."
   ]
  },
  {
   "cell_type": "code",
   "execution_count": 11,
   "metadata": {},
   "outputs": [],
   "source": [
    "#Converting the date columns from object datatype to datetime64[ns] datatype\n",
    "for column in date_columns:\n",
    "    #df1[column] = dd.to_datetime(df1[column], unit='s')\n",
    "    #df1[column] = df1[column].astype('datetime64[ns]').astype('int64') // 10**9\n",
    "    df1[column] = dd.to_datetime(df1[column], format='%Y-%m-%d %H:%M:%S', errors='coerce')"
   ]
  },
  {
   "cell_type": "code",
   "execution_count": 12,
   "metadata": {},
   "outputs": [
    {
     "name": "stdout",
     "output_type": "stream",
     "text": [
      "Severity                      int64\n",
      "Start_Time           datetime64[ns]\n",
      "End_Time             datetime64[ns]\n",
      "Start_Lat                   float64\n",
      "Start_Lng                   float64\n",
      "Distance(mi)                float64\n",
      "Airport_Code                 object\n",
      "Weather_Timestamp    datetime64[ns]\n",
      "Temperature(F)              float64\n",
      "Humidity(%)                 float64\n",
      "Pressure(in)                float64\n",
      "Visibility(mi)              float64\n",
      "Wind_Direction               object\n",
      "Wind_Speed(mph)             float64\n",
      "Precipitation(in)           float64\n",
      "Weather_Condition            object\n",
      "dtype: object\n"
     ]
    }
   ],
   "source": [
    "#Checking the datatype of the columns\n",
    "print(df1.dtypes)"
   ]
  },
  {
   "cell_type": "markdown",
   "metadata": {},
   "source": [
    "Separating the Independent variables and the Dependent varibale into separate Dataframe"
   ]
  },
  {
   "cell_type": "code",
   "execution_count": 13,
   "metadata": {},
   "outputs": [],
   "source": [
    "#Separating features and target\n",
    "X = df1.drop('Severity', axis=1)\n",
    "y = df1['Severity']"
   ]
  },
  {
   "cell_type": "markdown",
   "metadata": {},
   "source": [
    "Encoding the Categorical variables. Since the number of distinct values in the catgeorical variables are high we have chosen Label encoder inst"
   ]
  },
  {
   "cell_type": "code",
   "execution_count": 14,
   "metadata": {},
   "outputs": [],
   "source": [
    "#Creating a list of categorical variables for encoding\n",
    "cat_cols = ['Airport_Code','Wind_Direction','Weather_Condition']"
   ]
  },
  {
   "cell_type": "code",
   "execution_count": 15,
   "metadata": {},
   "outputs": [
    {
     "name": "stdout",
     "output_type": "stream",
     "text": [
      "['Airport_Code', 'Wind_Direction', 'Weather_Condition']\n"
     ]
    }
   ],
   "source": [
    "#Printing the list of categorical columns\n",
    "print(cat_cols)"
   ]
  },
  {
   "cell_type": "code",
   "execution_count": 16,
   "metadata": {},
   "outputs": [],
   "source": [
    "#Creating a NumPy copy of the dataframe since the CatBoost Pool requires the dataframe to be of NumPy array\n",
    "X_np = X.compute()"
   ]
  },
  {
   "cell_type": "code",
   "execution_count": 17,
   "metadata": {},
   "outputs": [],
   "source": [
    "#Creating a NumPy copy of the dataframe since the CatBoost Pool requires the dataframe to be of NumPy array\n",
    "Y_np = y.compute()"
   ]
  },
  {
   "cell_type": "code",
   "execution_count": 18,
   "metadata": {},
   "outputs": [],
   "source": [
    "#Initialize the Label encoder\n",
    "label_encoder = LabelEncoder()"
   ]
  },
  {
   "cell_type": "code",
   "execution_count": 19,
   "metadata": {},
   "outputs": [],
   "source": [
    "#Encoding the categorical variables\n",
    "for cat in cat_cols:\n",
    "    X_np[cat]=label_encoder.fit_transform(X_np[cat])"
   ]
  },
  {
   "cell_type": "markdown",
   "metadata": {},
   "source": [
    "Creating the Test data, Validation data and test data"
   ]
  },
  {
   "cell_type": "code",
   "execution_count": 20,
   "metadata": {},
   "outputs": [],
   "source": [
    "# Split into train, test, and validation sets with desired proportions\n",
    "X_train, X_temp, y_train, y_temp = train_test_split(X_np, Y_np, test_size=0.25)\n",
    "X_val, X_test, y_val, y_test = train_test_split(X_temp, y_temp, test_size=0.6)  # 60% of 25% = 15%"
   ]
  },
  {
   "cell_type": "markdown",
   "metadata": {},
   "source": [
    "Creating a CatBoost Pool for efficient handling of large datasets"
   ]
  },
  {
   "cell_type": "code",
   "execution_count": 21,
   "metadata": {},
   "outputs": [],
   "source": [
    "# Create a CatBoost Pool for efficient handling of large datasets\n",
    "train_pool = Pool(X_train, label=y_train)\n",
    "val_pool = Pool(X_val, label=y_val)"
   ]
  },
  {
   "cell_type": "markdown",
   "metadata": {},
   "source": [
    "Defining a hyperparameter grid for tuning the model"
   ]
  },
  {
   "cell_type": "code",
   "execution_count": 29,
   "metadata": {},
   "outputs": [],
   "source": [
    "# Definiiing hyperparameter grid for tuning\n",
    "param_grid = {\n",
    "    'iterations': [10], #, 200, 300],\n",
    "    'learning_rate': [0.05],# 0.1, 0.15],\n",
    "    'depth': [4]#, 6, 8],   \n",
    "}"
   ]
  },
  {
   "cell_type": "markdown",
   "metadata": {},
   "source": [
    "Creating a CatBoostClassifier model with early stopping enabled"
   ]
  },
  {
   "cell_type": "code",
   "execution_count": 30,
   "metadata": {},
   "outputs": [],
   "source": [
    "# Create a CatBoostClassifier model with early stopping enabled\n",
    "model = CatBoostClassifier(\n",
    "    early_stopping_rounds=10,  # Monitor validation performance\n",
    "    eval_metric='Accuracy',  # Replace with your preferred metric\n",
    "    # Other model parameters as needed\n",
    ")"
   ]
  },
  {
   "cell_type": "markdown",
   "metadata": {},
   "source": [
    "Performing grid search with Dask-compatible GridSearchCV"
   ]
  },
  {
   "cell_type": "code",
   "execution_count": 31,
   "metadata": {},
   "outputs": [
    {
     "name": "stdout",
     "output_type": "stream",
     "text": [
      "0:\tlearn: 0.8468029\ttotal: 1.26s\tremaining: 11.4s\n",
      "1:\tlearn: 0.8467909\ttotal: 2.25s\tremaining: 8.98s\n",
      "2:\tlearn: 0.8457670\ttotal: 3.55s\tremaining: 8.28s\n",
      "3:\tlearn: 0.8463862\ttotal: 4.78s\tremaining: 7.17s\n",
      "4:\tlearn: 0.8474153\ttotal: 6.15s\tremaining: 6.15s\n",
      "5:\tlearn: 0.8474153\ttotal: 7.29s\tremaining: 4.86s\n",
      "6:\tlearn: 0.8474444\ttotal: 8.39s\tremaining: 3.6s\n",
      "7:\tlearn: 0.8472348\ttotal: 9.35s\tremaining: 2.34s\n",
      "8:\tlearn: 0.8457670\ttotal: 10.3s\tremaining: 1.14s\n",
      "9:\tlearn: 0.8457670\ttotal: 11.4s\tremaining: 0us\n",
      "0:\tlearn: 0.8467702\ttotal: 803ms\tremaining: 7.23s\n",
      "1:\tlearn: 0.8467597\ttotal: 1.6s\tremaining: 6.42s\n",
      "2:\tlearn: 0.8457670\ttotal: 2.55s\tremaining: 5.94s\n",
      "3:\tlearn: 0.8463612\ttotal: 3.64s\tremaining: 5.46s\n",
      "4:\tlearn: 0.8473714\ttotal: 4.61s\tremaining: 4.61s\n",
      "5:\tlearn: 0.8473714\ttotal: 5.49s\tremaining: 3.66s\n",
      "6:\tlearn: 0.8473714\ttotal: 6.39s\tremaining: 2.74s\n",
      "7:\tlearn: 0.8472589\ttotal: 7.31s\tremaining: 1.83s\n",
      "8:\tlearn: 0.8457670\ttotal: 8.18s\tremaining: 909ms\n",
      "9:\tlearn: 0.8463268\ttotal: 9.1s\tremaining: 0us\n",
      "0:\tlearn: 0.8457667\ttotal: 767ms\tremaining: 6.9s\n",
      "1:\tlearn: 0.8457667\ttotal: 1.51s\tremaining: 6.04s\n",
      "2:\tlearn: 0.8457667\ttotal: 2.44s\tremaining: 5.7s\n",
      "3:\tlearn: 0.8457667\ttotal: 3.69s\tremaining: 5.54s\n",
      "4:\tlearn: 0.8457667\ttotal: 4.8s\tremaining: 4.8s\n",
      "5:\tlearn: 0.8457667\ttotal: 5.68s\tremaining: 3.79s\n",
      "6:\tlearn: 0.8457667\ttotal: 6.59s\tremaining: 2.82s\n",
      "7:\tlearn: 0.8461362\ttotal: 7.5s\tremaining: 1.88s\n",
      "8:\tlearn: 0.8461550\ttotal: 8.41s\tremaining: 934ms\n",
      "9:\tlearn: 0.8461575\ttotal: 9.38s\tremaining: 0us\n",
      "0:\tlearn: 0.8457667\ttotal: 887ms\tremaining: 7.98s\n",
      "1:\tlearn: 0.8457667\ttotal: 1.97s\tremaining: 7.89s\n",
      "2:\tlearn: 0.8457667\ttotal: 3.22s\tremaining: 7.52s\n",
      "3:\tlearn: 0.8457667\ttotal: 4.1s\tremaining: 6.15s\n",
      "4:\tlearn: 0.8457667\ttotal: 4.93s\tremaining: 4.93s\n",
      "5:\tlearn: 0.8457667\ttotal: 5.85s\tremaining: 3.9s\n",
      "6:\tlearn: 0.8457667\ttotal: 6.76s\tremaining: 2.9s\n",
      "7:\tlearn: 0.8457667\ttotal: 7.66s\tremaining: 1.92s\n",
      "8:\tlearn: 0.8464512\ttotal: 8.58s\tremaining: 954ms\n",
      "9:\tlearn: 0.8464512\ttotal: 9.5s\tremaining: 0us\n",
      "0:\tlearn: 0.8457670\ttotal: 767ms\tremaining: 6.9s\n",
      "1:\tlearn: 0.8457670\ttotal: 1.59s\tremaining: 6.38s\n",
      "2:\tlearn: 0.8457670\ttotal: 2.81s\tremaining: 6.57s\n",
      "3:\tlearn: 0.8457670\ttotal: 4.18s\tremaining: 6.27s\n",
      "4:\tlearn: 0.8457670\ttotal: 5.16s\tremaining: 5.16s\n",
      "5:\tlearn: 0.8457670\ttotal: 5.9s\tremaining: 3.94s\n",
      "6:\tlearn: 0.8457670\ttotal: 6.76s\tremaining: 2.9s\n",
      "7:\tlearn: 0.8457670\ttotal: 7.71s\tremaining: 1.93s\n",
      "8:\tlearn: 0.8461433\ttotal: 9.09s\tremaining: 1.01s\n",
      "9:\tlearn: 0.8461621\ttotal: 9.99s\tremaining: 0us\n",
      "0:\tlearn: 0.8458334\ttotal: 944ms\tremaining: 8.5s\n",
      "1:\tlearn: 0.8457669\ttotal: 1.91s\tremaining: 7.64s\n",
      "2:\tlearn: 0.8457669\ttotal: 3.3s\tremaining: 7.7s\n",
      "3:\tlearn: 0.8457669\ttotal: 4.67s\tremaining: 7.01s\n",
      "4:\tlearn: 0.8457669\ttotal: 5.67s\tremaining: 5.67s\n",
      "5:\tlearn: 0.8463998\ttotal: 6.81s\tremaining: 4.54s\n",
      "6:\tlearn: 0.8463998\ttotal: 7.95s\tremaining: 3.41s\n",
      "7:\tlearn: 0.8463998\ttotal: 9.15s\tremaining: 2.29s\n",
      "8:\tlearn: 0.8463998\ttotal: 10.3s\tremaining: 1.15s\n",
      "9:\tlearn: 0.8463998\ttotal: 11.5s\tremaining: 0us\n"
     ]
    },
    {
     "data": {
      "text/html": [
       "<style>#sk-container-id-1 {color: black;background-color: white;}#sk-container-id-1 pre{padding: 0;}#sk-container-id-1 div.sk-toggleable {background-color: white;}#sk-container-id-1 label.sk-toggleable__label {cursor: pointer;display: block;width: 100%;margin-bottom: 0;padding: 0.3em;box-sizing: border-box;text-align: center;}#sk-container-id-1 label.sk-toggleable__label-arrow:before {content: \"▸\";float: left;margin-right: 0.25em;color: #696969;}#sk-container-id-1 label.sk-toggleable__label-arrow:hover:before {color: black;}#sk-container-id-1 div.sk-estimator:hover label.sk-toggleable__label-arrow:before {color: black;}#sk-container-id-1 div.sk-toggleable__content {max-height: 0;max-width: 0;overflow: hidden;text-align: left;background-color: #f0f8ff;}#sk-container-id-1 div.sk-toggleable__content pre {margin: 0.2em;color: black;border-radius: 0.25em;background-color: #f0f8ff;}#sk-container-id-1 input.sk-toggleable__control:checked~div.sk-toggleable__content {max-height: 200px;max-width: 100%;overflow: auto;}#sk-container-id-1 input.sk-toggleable__control:checked~label.sk-toggleable__label-arrow:before {content: \"▾\";}#sk-container-id-1 div.sk-estimator input.sk-toggleable__control:checked~label.sk-toggleable__label {background-color: #d4ebff;}#sk-container-id-1 div.sk-label input.sk-toggleable__control:checked~label.sk-toggleable__label {background-color: #d4ebff;}#sk-container-id-1 input.sk-hidden--visually {border: 0;clip: rect(1px 1px 1px 1px);clip: rect(1px, 1px, 1px, 1px);height: 1px;margin: -1px;overflow: hidden;padding: 0;position: absolute;width: 1px;}#sk-container-id-1 div.sk-estimator {font-family: monospace;background-color: #f0f8ff;border: 1px dotted black;border-radius: 0.25em;box-sizing: border-box;margin-bottom: 0.5em;}#sk-container-id-1 div.sk-estimator:hover {background-color: #d4ebff;}#sk-container-id-1 div.sk-parallel-item::after {content: \"\";width: 100%;border-bottom: 1px solid gray;flex-grow: 1;}#sk-container-id-1 div.sk-label:hover label.sk-toggleable__label {background-color: #d4ebff;}#sk-container-id-1 div.sk-serial::before {content: \"\";position: absolute;border-left: 1px solid gray;box-sizing: border-box;top: 0;bottom: 0;left: 50%;z-index: 0;}#sk-container-id-1 div.sk-serial {display: flex;flex-direction: column;align-items: center;background-color: white;padding-right: 0.2em;padding-left: 0.2em;position: relative;}#sk-container-id-1 div.sk-item {position: relative;z-index: 1;}#sk-container-id-1 div.sk-parallel {display: flex;align-items: stretch;justify-content: center;background-color: white;position: relative;}#sk-container-id-1 div.sk-item::before, #sk-container-id-1 div.sk-parallel-item::before {content: \"\";position: absolute;border-left: 1px solid gray;box-sizing: border-box;top: 0;bottom: 0;left: 50%;z-index: -1;}#sk-container-id-1 div.sk-parallel-item {display: flex;flex-direction: column;z-index: 1;position: relative;background-color: white;}#sk-container-id-1 div.sk-parallel-item:first-child::after {align-self: flex-end;width: 50%;}#sk-container-id-1 div.sk-parallel-item:last-child::after {align-self: flex-start;width: 50%;}#sk-container-id-1 div.sk-parallel-item:only-child::after {width: 0;}#sk-container-id-1 div.sk-dashed-wrapped {border: 1px dashed gray;margin: 0 0.4em 0.5em 0.4em;box-sizing: border-box;padding-bottom: 0.4em;background-color: white;}#sk-container-id-1 div.sk-label label {font-family: monospace;font-weight: bold;display: inline-block;line-height: 1.2em;}#sk-container-id-1 div.sk-label-container {text-align: center;}#sk-container-id-1 div.sk-container {/* jupyter's `normalize.less` sets `[hidden] { display: none; }` but bootstrap.min.css set `[hidden] { display: none !important; }` so we also need the `!important` here to be able to override the default hidden behavior on the sphinx rendered scikit-learn.org. See: https://github.com/scikit-learn/scikit-learn/issues/21755 */display: inline-block !important;position: relative;}#sk-container-id-1 div.sk-text-repr-fallback {display: none;}</style><div id=\"sk-container-id-1\" class=\"sk-top-container\"><div class=\"sk-text-repr-fallback\"><pre>GridSearchCV(cv=5,\n",
       "             estimator=&lt;catboost.core.CatBoostClassifier object at 0x0000025DA74E0D30&gt;,\n",
       "             param_grid={&#x27;depth&#x27;: [4], &#x27;iterations&#x27;: [10],\n",
       "                         &#x27;learning_rate&#x27;: [0.05]},\n",
       "             scoring=&#x27;accuracy&#x27;)</pre><b>In a Jupyter environment, please rerun this cell to show the HTML representation or trust the notebook. <br />On GitHub, the HTML representation is unable to render, please try loading this page with nbviewer.org.</b></div><div class=\"sk-container\" hidden><div class=\"sk-item sk-dashed-wrapped\"><div class=\"sk-label-container\"><div class=\"sk-label sk-toggleable\"><input class=\"sk-toggleable__control sk-hidden--visually\" id=\"sk-estimator-id-1\" type=\"checkbox\" ><label for=\"sk-estimator-id-1\" class=\"sk-toggleable__label sk-toggleable__label-arrow\">GridSearchCV</label><div class=\"sk-toggleable__content\"><pre>GridSearchCV(cv=5,\n",
       "             estimator=&lt;catboost.core.CatBoostClassifier object at 0x0000025DA74E0D30&gt;,\n",
       "             param_grid={&#x27;depth&#x27;: [4], &#x27;iterations&#x27;: [10],\n",
       "                         &#x27;learning_rate&#x27;: [0.05]},\n",
       "             scoring=&#x27;accuracy&#x27;)</pre></div></div></div><div class=\"sk-parallel\"><div class=\"sk-parallel-item\"><div class=\"sk-item\"><div class=\"sk-label-container\"><div class=\"sk-label sk-toggleable\"><input class=\"sk-toggleable__control sk-hidden--visually\" id=\"sk-estimator-id-2\" type=\"checkbox\" ><label for=\"sk-estimator-id-2\" class=\"sk-toggleable__label sk-toggleable__label-arrow\">estimator: CatBoostClassifier</label><div class=\"sk-toggleable__content\"><pre>&lt;catboost.core.CatBoostClassifier object at 0x0000025DA74E0D30&gt;</pre></div></div></div><div class=\"sk-serial\"><div class=\"sk-item\"><div class=\"sk-estimator sk-toggleable\"><input class=\"sk-toggleable__control sk-hidden--visually\" id=\"sk-estimator-id-3\" type=\"checkbox\" ><label for=\"sk-estimator-id-3\" class=\"sk-toggleable__label sk-toggleable__label-arrow\">CatBoostClassifier</label><div class=\"sk-toggleable__content\"><pre>&lt;catboost.core.CatBoostClassifier object at 0x0000025DA74E0D30&gt;</pre></div></div></div></div></div></div></div></div></div></div>"
      ],
      "text/plain": [
       "GridSearchCV(cv=5,\n",
       "             estimator=<catboost.core.CatBoostClassifier object at 0x0000025DA74E0D30>,\n",
       "             param_grid={'depth': [4], 'iterations': [10],\n",
       "                         'learning_rate': [0.05]},\n",
       "             scoring='accuracy')"
      ]
     },
     "execution_count": 31,
     "metadata": {},
     "output_type": "execute_result"
    }
   ],
   "source": [
    "# Perform grid search with Dask-compatible GridSearchCV\n",
    "grid_search = GridSearchCV(model, param_grid, cv=5, scoring='accuracy')\n",
    "grid_search.fit(X_train, y_train)"
   ]
  },
  {
   "cell_type": "markdown",
   "metadata": {},
   "source": [
    "Printing the best model and its parameters"
   ]
  },
  {
   "cell_type": "code",
   "execution_count": 33,
   "metadata": {},
   "outputs": [],
   "source": [
    "# Get the best model and its parameters\n",
    "best_model = grid_search.best_estimator_\n",
    "best_params = grid_search.best_params_"
   ]
  },
  {
   "cell_type": "markdown",
   "metadata": {},
   "source": [
    "Evaluating the performance of the model on the test data"
   ]
  },
  {
   "cell_type": "code",
   "execution_count": 34,
   "metadata": {},
   "outputs": [
    {
     "name": "stdout",
     "output_type": "stream",
     "text": [
      "Test accuracy: 0.8458394698540713\n"
     ]
    }
   ],
   "source": [
    "# Evaluate performance on the test set\n",
    "test_pool = Pool(X_test, label=y_test)\n",
    "test_predictions = best_model.predict(test_pool)\n",
    "test_accuracy = best_model.score(test_pool)\n",
    "\n",
    "print(\"Test accuracy:\", test_accuracy)"
   ]
  },
  {
   "cell_type": "markdown",
   "metadata": {},
   "source": [
    "We have got a test accuracy of almost 85% which is pretty neat"
   ]
  }
 ],
 "metadata": {
  "kernelspec": {
   "display_name": "base",
   "language": "python",
   "name": "python3"
  },
  "language_info": {
   "codemirror_mode": {
    "name": "ipython",
    "version": 3
   },
   "file_extension": ".py",
   "mimetype": "text/x-python",
   "name": "python",
   "nbconvert_exporter": "python",
   "pygments_lexer": "ipython3",
   "version": "3.9.7"
  }
 },
 "nbformat": 4,
 "nbformat_minor": 2
}
