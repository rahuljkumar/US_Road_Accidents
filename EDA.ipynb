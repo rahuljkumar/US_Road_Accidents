{
 "cells": [
  {
   "cell_type": "markdown",
   "metadata": {},
   "source": [
    "## Predicting the severity of the impact of accidents on traffic in the US"
   ]
  },
  {
   "cell_type": "markdown",
   "metadata": {},
   "source": [
    "### The description of each of the fields of the dataset is given below\n",
    "\n",
    "- ID\tThis is a unique identifier of the accident record.\n",
    "- Source    shows the source which reported the accident\n",
    "- Severity\tShows the severity of the accident, a number between 1 and 4, where 1 indicates the least impact on traffic (i.e., short delay as a result of the accident) and 4 indicates a significant impact on traffic (i.e., long delay).\n",
    "- Start_Time\tShows start time of the accident in local time zone.\n",
    "- End_Time\tShows end time of the accident in local time zone. End time here refers to when the impact of accident on traffic flow was dismissed.\n",
    "- Start_Lat\tShows latitude in GPS coordinate of the start point.\n",
    "- Start_Lng\tShows longitude in GPS coordinate of the start point.\n",
    "- End_Lat\tShows latitude in GPS coordinate of the end point.\n",
    "- End_Lng\tShows longitude in GPS coordinate of the end point.\n",
    "- Distance(mi)\tThe length of the road extent affected by the accident.\n",
    "- Description\tShows natural language description of the accident.\n",
    "- Street\tShows the street name in address field.\n",
    "- City\tShows the city in address field.\n",
    "- County\tShows the county in address field.\n",
    "- State\tShows the state in address field.\n",
    "- Zipcode\tShows the zipcode in address field.\n",
    "- Country\tShows the country in address field.\n",
    "- Timezone\tShows timezone based on the location of the accident (eastern, central, etc.).\n",
    "- Airport_Code\tDenotes an airport-based weather station which is the closest one to location of the accident.\n",
    "- Weather_Timestamp\tShows the time-stamp of weather observation record (in local time).\n",
    "- Temperature(F)\tShows the temperature (in Fahrenheit).\n",
    "- Wind_Chill(F)\tShows the wind chill (in Fahrenheit).\n",
    "- Humidity(%)\tShows the humidity (in percentage).\n",
    "- Pressure(in)\tShows the air pressure (in inches).\n",
    "- Visibility(mi)\tShows visibility (in miles).\n",
    "- Wind_Direction\tShows wind direction.\n",
    "- Wind_Speed(mph)\tShows wind speed (in miles per hour).\n",
    "- Precipitation(in)\tShows precipitation amount in inches, if there is any.\n",
    "- Weather_Condition\tShows the weather condition (rain, snow, thunderstorm, fog, etc.)\n",
    "- Amenity\tA https://wiki.openstreetmap.org/wiki/Points_of_interest annotation which indicates presence of https://wiki.openstreetmap.org/wiki/Key:amenity in a nearby location.\n",
    "- Bump\tA POI annotation which indicates presence of speed bump or hump in a nearby location.\n",
    "- Crossing\tA POI annotation which indicates presence of https://wiki.openstreetmap.org/wiki/Key:crossing in a nearby location.\n",
    "- Give_Way\tA POI annotation which indicates presence of https://wiki.openstreetmap.org/wiki/Tag:highway%3Dgive_way in a nearby location.\n",
    "- Junction\tA POI annotation which indicates presence of https://wiki.openstreetmap.org/wiki/Key:junction in a nearby location.\n",
    "- No_Exit\tA POI annotation which indicates presence of https://wiki.openstreetmap.org/wiki/Key:noexit in a nearby location.\n",
    "- Railway\tA POI annotation which indicates presence of https://wiki.openstreetmap.org/wiki/Key:railway in a nearby location.\n",
    "- Roundabout\tA POI annotation which indicates presence of https://wiki.openstreetmap.org/wiki/Tag:junction%3Droundabout in a nearby location.\n",
    "- Station\tA POI annotation which indicates presence of https://wiki.openstreetmap.org/wiki/Key:station in a nearby location.\n",
    "- Stop\tA POI annotation which indicates presence of https://wiki.openstreetmap.org/wiki/Key:stop in a nearby location.\n",
    "- Traffic_Calming\tA POI annotation which indicates presence of https://wiki.openstreetmap.org/wiki/Key:traffic_calming in a nearby location.\n",
    "- Traffic_Signal\tA POI annotation which indicates presence of https://wiki.openstreetmap.org/wiki/Tag:highway%3Dtraffic_signals in a nearby loction.\n",
    "- Turning_Loop\tA POI annotation which indicates presence of https://wiki.openstreetmap.org/wiki/Tag:highway%3Dturning_loop in a nearby location.\n",
    "- Sunrise_Sunset\tShows the period of day (i.e. day or night) based on sunrise/sunset.\n",
    "- Civil_Twilight\tShows the period of day (i.e. day or night) based on https://en.wikipedia.org/wiki/Twilight#Civil_twilight.\n",
    "- Nautical_Twilight\tShows the period of day (i.e. day or night) based on https://en.wikipedia.org/wiki/Twilight#Nautical_twilight.\n",
    "- Astronomical_Twilight\tShows the period of day (i.e. day or night) based on https://en.wikipedia.org/wiki/Twilight#Astronomical_twilight.\n"
   ]
  },
  {
   "cell_type": "markdown",
   "metadata": {},
   "source": [
    "Importing the required modules"
   ]
  },
  {
   "cell_type": "code",
   "execution_count": 1,
   "metadata": {},
   "outputs": [],
   "source": [
    "import dask.dataframe as dd\n",
    "import numpy as np\n",
    "import pandas as pd\n",
    "import seaborn as sns\n",
    "import matplotlib.pyplot as plt\n",
    "%matplotlib inline\n",
    "import warnings\n",
    "warnings.filterwarnings('ignore')"
   ]
  },
  {
   "cell_type": "markdown",
   "metadata": {},
   "source": [
    "Importing the Dataset from the local CSV file"
   ]
  },
  {
   "cell_type": "code",
   "execution_count": 2,
   "metadata": {},
   "outputs": [],
   "source": [
    "df1=dd.read_csv('US_Accidents_March23.csv')"
   ]
  },
  {
   "cell_type": "markdown",
   "metadata": {},
   "source": [
    "Checking the number of rows and columns in the dataset"
   ]
  },
  {
   "cell_type": "code",
   "execution_count": 3,
   "metadata": {},
   "outputs": [
    {
     "name": "stdout",
     "output_type": "stream",
     "text": [
      "Number of rows in the dataset: 7728394\n",
      "Number of columns in the dataset: 46\n"
     ]
    }
   ],
   "source": [
    "shape=df1.shape\n",
    "print(\"Number of rows in the dataset:\",shape[0].compute())\n",
    "print(\"Number of columns in the dataset:\",shape[1])"
   ]
  },
  {
   "cell_type": "markdown",
   "metadata": {},
   "source": [
    "Displaying the first five records from the Dataset"
   ]
  },
  {
   "cell_type": "code",
   "execution_count": 18,
   "metadata": {},
   "outputs": [
    {
     "data": {
      "text/html": [
       "<div>\n",
       "<style scoped>\n",
       "    .dataframe tbody tr th:only-of-type {\n",
       "        vertical-align: middle;\n",
       "    }\n",
       "\n",
       "    .dataframe tbody tr th {\n",
       "        vertical-align: top;\n",
       "    }\n",
       "\n",
       "    .dataframe thead th {\n",
       "        text-align: right;\n",
       "    }\n",
       "</style>\n",
       "<table border=\"1\" class=\"dataframe\">\n",
       "  <thead>\n",
       "    <tr style=\"text-align: right;\">\n",
       "      <th></th>\n",
       "      <th>ID</th>\n",
       "      <th>Source</th>\n",
       "      <th>Severity</th>\n",
       "      <th>Start_Time</th>\n",
       "      <th>End_Time</th>\n",
       "      <th>Start_Lat</th>\n",
       "      <th>Start_Lng</th>\n",
       "      <th>End_Lat</th>\n",
       "      <th>End_Lng</th>\n",
       "      <th>Distance(mi)</th>\n",
       "      <th>...</th>\n",
       "      <th>Roundabout</th>\n",
       "      <th>Station</th>\n",
       "      <th>Stop</th>\n",
       "      <th>Traffic_Calming</th>\n",
       "      <th>Traffic_Signal</th>\n",
       "      <th>Turning_Loop</th>\n",
       "      <th>Sunrise_Sunset</th>\n",
       "      <th>Civil_Twilight</th>\n",
       "      <th>Nautical_Twilight</th>\n",
       "      <th>Astronomical_Twilight</th>\n",
       "    </tr>\n",
       "  </thead>\n",
       "  <tbody>\n",
       "    <tr>\n",
       "      <th>0</th>\n",
       "      <td>A-1</td>\n",
       "      <td>Source2</td>\n",
       "      <td>3</td>\n",
       "      <td>2016-02-08 05:46:00</td>\n",
       "      <td>2016-02-08 11:00:00</td>\n",
       "      <td>39.865147</td>\n",
       "      <td>-84.058723</td>\n",
       "      <td>NaN</td>\n",
       "      <td>NaN</td>\n",
       "      <td>0.01</td>\n",
       "      <td>...</td>\n",
       "      <td>False</td>\n",
       "      <td>False</td>\n",
       "      <td>False</td>\n",
       "      <td>False</td>\n",
       "      <td>False</td>\n",
       "      <td>False</td>\n",
       "      <td>Night</td>\n",
       "      <td>Night</td>\n",
       "      <td>Night</td>\n",
       "      <td>Night</td>\n",
       "    </tr>\n",
       "    <tr>\n",
       "      <th>1</th>\n",
       "      <td>A-2</td>\n",
       "      <td>Source2</td>\n",
       "      <td>2</td>\n",
       "      <td>2016-02-08 06:07:59</td>\n",
       "      <td>2016-02-08 06:37:59</td>\n",
       "      <td>39.928059</td>\n",
       "      <td>-82.831184</td>\n",
       "      <td>NaN</td>\n",
       "      <td>NaN</td>\n",
       "      <td>0.01</td>\n",
       "      <td>...</td>\n",
       "      <td>False</td>\n",
       "      <td>False</td>\n",
       "      <td>False</td>\n",
       "      <td>False</td>\n",
       "      <td>False</td>\n",
       "      <td>False</td>\n",
       "      <td>Night</td>\n",
       "      <td>Night</td>\n",
       "      <td>Night</td>\n",
       "      <td>Day</td>\n",
       "    </tr>\n",
       "    <tr>\n",
       "      <th>2</th>\n",
       "      <td>A-3</td>\n",
       "      <td>Source2</td>\n",
       "      <td>2</td>\n",
       "      <td>2016-02-08 06:49:27</td>\n",
       "      <td>2016-02-08 07:19:27</td>\n",
       "      <td>39.063148</td>\n",
       "      <td>-84.032608</td>\n",
       "      <td>NaN</td>\n",
       "      <td>NaN</td>\n",
       "      <td>0.01</td>\n",
       "      <td>...</td>\n",
       "      <td>False</td>\n",
       "      <td>False</td>\n",
       "      <td>False</td>\n",
       "      <td>False</td>\n",
       "      <td>True</td>\n",
       "      <td>False</td>\n",
       "      <td>Night</td>\n",
       "      <td>Night</td>\n",
       "      <td>Day</td>\n",
       "      <td>Day</td>\n",
       "    </tr>\n",
       "    <tr>\n",
       "      <th>3</th>\n",
       "      <td>A-4</td>\n",
       "      <td>Source2</td>\n",
       "      <td>3</td>\n",
       "      <td>2016-02-08 07:23:34</td>\n",
       "      <td>2016-02-08 07:53:34</td>\n",
       "      <td>39.747753</td>\n",
       "      <td>-84.205582</td>\n",
       "      <td>NaN</td>\n",
       "      <td>NaN</td>\n",
       "      <td>0.01</td>\n",
       "      <td>...</td>\n",
       "      <td>False</td>\n",
       "      <td>False</td>\n",
       "      <td>False</td>\n",
       "      <td>False</td>\n",
       "      <td>False</td>\n",
       "      <td>False</td>\n",
       "      <td>Night</td>\n",
       "      <td>Day</td>\n",
       "      <td>Day</td>\n",
       "      <td>Day</td>\n",
       "    </tr>\n",
       "    <tr>\n",
       "      <th>4</th>\n",
       "      <td>A-5</td>\n",
       "      <td>Source2</td>\n",
       "      <td>2</td>\n",
       "      <td>2016-02-08 07:39:07</td>\n",
       "      <td>2016-02-08 08:09:07</td>\n",
       "      <td>39.627781</td>\n",
       "      <td>-84.188354</td>\n",
       "      <td>NaN</td>\n",
       "      <td>NaN</td>\n",
       "      <td>0.01</td>\n",
       "      <td>...</td>\n",
       "      <td>False</td>\n",
       "      <td>False</td>\n",
       "      <td>False</td>\n",
       "      <td>False</td>\n",
       "      <td>True</td>\n",
       "      <td>False</td>\n",
       "      <td>Day</td>\n",
       "      <td>Day</td>\n",
       "      <td>Day</td>\n",
       "      <td>Day</td>\n",
       "    </tr>\n",
       "  </tbody>\n",
       "</table>\n",
       "<p>5 rows × 46 columns</p>\n",
       "</div>"
      ],
      "text/plain": [
       "    ID   Source  Severity           Start_Time             End_Time  \\\n",
       "0  A-1  Source2         3  2016-02-08 05:46:00  2016-02-08 11:00:00   \n",
       "1  A-2  Source2         2  2016-02-08 06:07:59  2016-02-08 06:37:59   \n",
       "2  A-3  Source2         2  2016-02-08 06:49:27  2016-02-08 07:19:27   \n",
       "3  A-4  Source2         3  2016-02-08 07:23:34  2016-02-08 07:53:34   \n",
       "4  A-5  Source2         2  2016-02-08 07:39:07  2016-02-08 08:09:07   \n",
       "\n",
       "   Start_Lat  Start_Lng  End_Lat  End_Lng  Distance(mi)  ... Roundabout  \\\n",
       "0  39.865147 -84.058723      NaN      NaN          0.01  ...      False   \n",
       "1  39.928059 -82.831184      NaN      NaN          0.01  ...      False   \n",
       "2  39.063148 -84.032608      NaN      NaN          0.01  ...      False   \n",
       "3  39.747753 -84.205582      NaN      NaN          0.01  ...      False   \n",
       "4  39.627781 -84.188354      NaN      NaN          0.01  ...      False   \n",
       "\n",
       "  Station   Stop Traffic_Calming Traffic_Signal Turning_Loop Sunrise_Sunset  \\\n",
       "0   False  False           False          False        False          Night   \n",
       "1   False  False           False          False        False          Night   \n",
       "2   False  False           False           True        False          Night   \n",
       "3   False  False           False          False        False          Night   \n",
       "4   False  False           False           True        False            Day   \n",
       "\n",
       "  Civil_Twilight Nautical_Twilight Astronomical_Twilight  \n",
       "0          Night             Night                 Night  \n",
       "1          Night             Night                   Day  \n",
       "2          Night               Day                   Day  \n",
       "3            Day               Day                   Day  \n",
       "4            Day               Day                   Day  \n",
       "\n",
       "[5 rows x 46 columns]"
      ]
     },
     "execution_count": 18,
     "metadata": {},
     "output_type": "execute_result"
    }
   ],
   "source": [
    "df1.head()"
   ]
  },
  {
   "cell_type": "markdown",
   "metadata": {},
   "source": [
    "Dask by default displays only a few columns from the Dataset incase the number of columns is high. We need to make the following adjustments to display all the columns."
   ]
  },
  {
   "cell_type": "code",
   "execution_count": 25,
   "metadata": {},
   "outputs": [
    {
     "name": "stdout",
     "output_type": "stream",
     "text": [
      "    ID   Source  Severity           Start_Time             End_Time  \\\n",
      "0  A-1  Source2         3  2016-02-08 05:46:00  2016-02-08 11:00:00   \n",
      "1  A-2  Source2         2  2016-02-08 06:07:59  2016-02-08 06:37:59   \n",
      "2  A-3  Source2         2  2016-02-08 06:49:27  2016-02-08 07:19:27   \n",
      "3  A-4  Source2         3  2016-02-08 07:23:34  2016-02-08 07:53:34   \n",
      "4  A-5  Source2         2  2016-02-08 07:39:07  2016-02-08 08:09:07   \n",
      "\n",
      "   Start_Lat  Start_Lng  End_Lat  End_Lng  Distance(mi)  \\\n",
      "0  39.865147 -84.058723      NaN      NaN          0.01   \n",
      "1  39.928059 -82.831184      NaN      NaN          0.01   \n",
      "2  39.063148 -84.032608      NaN      NaN          0.01   \n",
      "3  39.747753 -84.205582      NaN      NaN          0.01   \n",
      "4  39.627781 -84.188354      NaN      NaN          0.01   \n",
      "\n",
      "                                         Description  \\\n",
      "0  Right lane blocked due to accident on I-70 Eas...   \n",
      "1  Accident on Brice Rd at Tussing Rd. Expect del...   \n",
      "2  Accident on OH-32 State Route 32 Westbound at ...   \n",
      "3  Accident on I-75 Southbound at Exits 52 52B US...   \n",
      "4  Accident on McEwen Rd at OH-725 Miamisburg Cen...   \n",
      "\n",
      "                      Street          City      County State     Zipcode  \\\n",
      "0                     I-70 E        Dayton  Montgomery    OH       45424   \n",
      "1                   Brice Rd  Reynoldsburg    Franklin    OH  43068-3402   \n",
      "2             State Route 32  Williamsburg    Clermont    OH       45176   \n",
      "3                     I-75 S        Dayton  Montgomery    OH       45417   \n",
      "4  Miamisburg Centerville Rd        Dayton  Montgomery    OH       45459   \n",
      "\n",
      "  Country    Timezone Airport_Code    Weather_Timestamp  Temperature(F)  \\\n",
      "0      US  US/Eastern         KFFO  2016-02-08 05:58:00            36.9   \n",
      "1      US  US/Eastern         KCMH  2016-02-08 05:51:00            37.9   \n",
      "2      US  US/Eastern         KI69  2016-02-08 06:56:00            36.0   \n",
      "3      US  US/Eastern         KDAY  2016-02-08 07:38:00            35.1   \n",
      "4      US  US/Eastern         KMGY  2016-02-08 07:53:00            36.0   \n",
      "\n",
      "   Wind_Chill(F)  Humidity(%)  Pressure(in)  Visibility(mi) Wind_Direction  \\\n",
      "0            NaN         91.0         29.68            10.0           Calm   \n",
      "1            NaN        100.0         29.65            10.0           Calm   \n",
      "2           33.3        100.0         29.67            10.0             SW   \n",
      "3           31.0         96.0         29.64             9.0             SW   \n",
      "4           33.3         89.0         29.65             6.0             SW   \n",
      "\n",
      "   Wind_Speed(mph)  Precipitation(in) Weather_Condition  Amenity   Bump  \\\n",
      "0              NaN               0.02        Light Rain    False  False   \n",
      "1              NaN               0.00        Light Rain    False  False   \n",
      "2              3.5                NaN          Overcast    False  False   \n",
      "3              4.6                NaN     Mostly Cloudy    False  False   \n",
      "4              3.5                NaN     Mostly Cloudy    False  False   \n",
      "\n",
      "   Crossing  Give_Way  Junction  No_Exit  Railway  Roundabout  Station   Stop  \\\n",
      "0     False     False     False    False    False       False    False  False   \n",
      "1     False     False     False    False    False       False    False  False   \n",
      "2     False     False     False    False    False       False    False  False   \n",
      "3     False     False     False    False    False       False    False  False   \n",
      "4     False     False     False    False    False       False    False  False   \n",
      "\n",
      "   Traffic_Calming  Traffic_Signal  Turning_Loop Sunrise_Sunset  \\\n",
      "0            False           False         False          Night   \n",
      "1            False           False         False          Night   \n",
      "2            False            True         False          Night   \n",
      "3            False           False         False          Night   \n",
      "4            False            True         False            Day   \n",
      "\n",
      "  Civil_Twilight Nautical_Twilight Astronomical_Twilight  \n",
      "0          Night             Night                 Night  \n",
      "1          Night             Night                   Day  \n",
      "2          Night               Day                   Day  \n",
      "3            Day               Day                   Day  \n",
      "4            Day               Day                   Day  \n"
     ]
    }
   ],
   "source": [
    "pd.set_option('display.max_columns', None)  # Show all columns\n",
    "\n",
    "print(df1.head(5))  # Only display the first 5 rows\n",
    "\n",
    "# Reset the option back to default\n",
    "pd.reset_option('display.max_columns')"
   ]
  },
  {
   "cell_type": "markdown",
   "metadata": {},
   "source": [
    "Displaying the number of NaN (Null) values in each of the columns of the Dataset"
   ]
  },
  {
   "cell_type": "code",
   "execution_count": 19,
   "metadata": {},
   "outputs": [
    {
     "name": "stdout",
     "output_type": "stream",
     "text": [
      "ID                             0\n",
      "Source                         0\n",
      "Severity                       0\n",
      "Start_Time                     0\n",
      "End_Time                       0\n",
      "Start_Lat                      0\n",
      "Start_Lng                      0\n",
      "End_Lat                  3402762\n",
      "End_Lng                  3402762\n",
      "Distance(mi)                   0\n",
      "Description                    5\n",
      "Street                     10869\n",
      "City                         253\n",
      "County                         0\n",
      "State                          0\n",
      "Zipcode                     1915\n",
      "Country                        0\n",
      "Timezone                    7808\n",
      "Airport_Code               22635\n",
      "Weather_Timestamp         120228\n",
      "Temperature(F)            163853\n",
      "Wind_Chill(F)            1999019\n",
      "Humidity(%)               174144\n",
      "Pressure(in)              140679\n",
      "Visibility(mi)            177098\n",
      "Wind_Direction            175206\n",
      "Wind_Speed(mph)           571233\n",
      "Precipitation(in)        2203586\n",
      "Weather_Condition         173459\n",
      "Amenity                        0\n",
      "Bump                           0\n",
      "Crossing                       0\n",
      "Give_Way                       0\n",
      "Junction                       0\n",
      "No_Exit                        0\n",
      "Railway                        0\n",
      "Roundabout                     0\n",
      "Station                        0\n",
      "Stop                           0\n",
      "Traffic_Calming                0\n",
      "Traffic_Signal                 0\n",
      "Turning_Loop                   0\n",
      "Sunrise_Sunset             23246\n",
      "Civil_Twilight             23246\n",
      "Nautical_Twilight          23246\n",
      "Astronomical_Twilight      23246\n",
      "dtype: int64\n"
     ]
    }
   ],
   "source": [
    "print(df1.isna().sum().compute())"
   ]
  },
  {
   "cell_type": "markdown",
   "metadata": {},
   "source": [
    "- The 'End_Lat' and 'End_Lng' columns both have 3402762 Null values which is close to 44% of the Dataset\n",
    "- The 'Wind_Chill(F)' column has 1999019 Null values which is close to 25% of the Dataset\n",
    "- The 'Precipitation(in)' column has 2203586 Null values which is close to 29% of the Dataset\n",
    "\n",
    "Since the number of Null values in these columns are significant, we can think about dropping these features from the Dataset based on the EDA"
   ]
  },
  {
   "cell_type": "markdown",
   "metadata": {},
   "source": [
    "Checking if there are any duplicate rows"
   ]
  },
  {
   "cell_type": "code",
   "execution_count": 22,
   "metadata": {},
   "outputs": [
    {
     "name": "stdout",
     "output_type": "stream",
     "text": [
      "Number of duplicated records: 0\n"
     ]
    }
   ],
   "source": [
    "def count_duplicates(df1):\n",
    "    return df1.duplicated().sum()\n",
    "\n",
    "num_duplicates = df1.reduction(count_duplicates, aggregate=sum, meta=int).compute()\n",
    "\n",
    "print(\"Number of duplicated records:\", num_duplicates)\n"
   ]
  },
  {
   "cell_type": "markdown",
   "metadata": {},
   "source": [
    "Checking the number of features for each datatype"
   ]
  },
  {
   "cell_type": "code",
   "execution_count": 4,
   "metadata": {},
   "outputs": [
    {
     "name": "stdout",
     "output_type": "stream",
     "text": [
      "<class 'dask.dataframe.core.DataFrame'>\n",
      "Columns: 46 entries, ID to Astronomical_Twilight\n",
      "dtypes: object(20), bool(13), float64(12), int64(1)"
     ]
    }
   ],
   "source": [
    "df1.info()"
   ]
  },
  {
   "cell_type": "markdown",
   "metadata": {},
   "source": [
    "- There are 20 features of datatype 'Object'\n",
    "- There are 13 features of datatype 'bool'\n",
    "- There are 12 features of datatype 'float64'\n",
    "- There is one features of datatype 'int64'"
   ]
  },
  {
   "cell_type": "markdown",
   "metadata": {},
   "source": [
    "Checking the Datatype of the columns in the Dataset"
   ]
  },
  {
   "cell_type": "code",
   "execution_count": 29,
   "metadata": {},
   "outputs": [
    {
     "name": "stdout",
     "output_type": "stream",
     "text": [
      "ID                        object\n",
      "Source                    object\n",
      "Severity                   int64\n",
      "Start_Time                object\n",
      "End_Time                  object\n",
      "Start_Lat                float64\n",
      "Start_Lng                float64\n",
      "End_Lat                  float64\n",
      "End_Lng                  float64\n",
      "Distance(mi)             float64\n",
      "Description               object\n",
      "Street                    object\n",
      "City                      object\n",
      "County                    object\n",
      "State                     object\n",
      "Zipcode                   object\n",
      "Country                   object\n",
      "Timezone                  object\n",
      "Airport_Code              object\n",
      "Weather_Timestamp         object\n",
      "Temperature(F)           float64\n",
      "Wind_Chill(F)            float64\n",
      "Humidity(%)              float64\n",
      "Pressure(in)             float64\n",
      "Visibility(mi)           float64\n",
      "Wind_Direction            object\n",
      "Wind_Speed(mph)          float64\n",
      "Precipitation(in)        float64\n",
      "Weather_Condition         object\n",
      "Amenity                     bool\n",
      "Bump                        bool\n",
      "Crossing                    bool\n",
      "Give_Way                    bool\n",
      "Junction                    bool\n",
      "No_Exit                     bool\n",
      "Railway                     bool\n",
      "Roundabout                  bool\n",
      "Station                     bool\n",
      "Stop                        bool\n",
      "Traffic_Calming             bool\n",
      "Traffic_Signal              bool\n",
      "Turning_Loop                bool\n",
      "Sunrise_Sunset            object\n",
      "Civil_Twilight            object\n",
      "Nautical_Twilight         object\n",
      "Astronomical_Twilight     object\n",
      "dtype: object\n"
     ]
    }
   ],
   "source": [
    "print(df1.dtypes)"
   ]
  },
  {
   "cell_type": "markdown",
   "metadata": {},
   "source": [
    "Dask has read the Start_Time, End_Time and Weather_Timestamp as object datatype. Let us convert them into Date format for better analysis."
   ]
  },
  {
   "cell_type": "code",
   "execution_count": 38,
   "metadata": {},
   "outputs": [],
   "source": [
    "date_columns = ['Start_Time', 'End_Time', 'Weather_Timestamp']"
   ]
  },
  {
   "cell_type": "code",
   "execution_count": 82,
   "metadata": {},
   "outputs": [],
   "source": [
    "#Converting the date columns from object datatype to datetime64[ns] datatype\n",
    "for column in date_columns:\n",
    
    
    "    df1[column] = dd.to_datetime(df1[column], format='%Y-%m-%d %H:%M:%S', errors='coerce')"
   ]
  },
  {
   "cell_type": "code",
   "execution_count": 83,
   "metadata": {},
   "outputs": [
    {
     "name": "stdout",
     "output_type": "stream",
     "text": [
      "Start_Time           datetime64[ns]\n",
      "End_Time             datetime64[ns]\n",
      "Weather_Timestamp    datetime64[ns]\n",
      "dtype: object\n"
     ]
    }
   ],
   "source": [
    "print(df1[date_columns].dtypes)"
   ]
  },
  {
   "cell_type": "markdown",
   "metadata": {},
   "source": [
    "The datatype of the Start_Time, End_Time and Weather_Timestamp are now changed to datetime64[ns]"
   ]
  },
  {
   "cell_type": "markdown",
   "metadata": {},
   "source": [
    "Printing the date columns to check if the data is retained properly"
   ]
  },
  {
   "cell_type": "code",
   "execution_count": 55,
   "metadata": {},
   "outputs": [
    {
     "name": "stdout",
     "output_type": "stream",
     "text": [
      "                Start_Time            End_Time   Weather_Timestamp\n",
      "0      2016-02-08 05:46:00 2016-02-08 11:00:00 2016-02-08 05:58:00\n",
      "1      2016-02-08 06:07:59 2016-02-08 06:37:59 2016-02-08 05:51:00\n",
      "2      2016-02-08 06:49:27 2016-02-08 07:19:27 2016-02-08 06:56:00\n",
      "3      2016-02-08 07:23:34 2016-02-08 07:53:34 2016-02-08 07:38:00\n",
      "4      2016-02-08 07:39:07 2016-02-08 08:09:07 2016-02-08 07:53:00\n",
      "...                    ...                 ...                 ...\n",
      "133720 2019-08-23 18:03:25 2019-08-23 18:32:01 2019-08-23 17:53:00\n",
      "133721 2019-08-23 19:11:30 2019-08-23 19:38:23 2019-08-23 18:53:00\n",
      "133722 2019-08-23 19:00:21 2019-08-23 19:28:49 2019-08-23 18:53:00\n",
      "133723 2019-08-23 19:00:21 2019-08-23 19:29:42 2019-08-23 18:51:00\n",
      "133724 2019-08-23 18:52:06 2019-08-23 19:21:31 2019-08-23 20:50:00\n",
      "\n",
      "[7728394 rows x 3 columns]\n"
     ]
    }
   ],
   "source": [
    "print(df1[date_columns].compute())"
   ]
  },
  {
   "cell_type": "markdown",
   "metadata": {},
   "source": [
    "Checking the number of features for each datatype after converting the date columns to datetime64[ns] datatype"
   ]
  },
  {
   "cell_type": "code",
   "execution_count": 84,
   "metadata": {},
   "outputs": [
    {
     "name": "stdout",
     "output_type": "stream",
     "text": [
      "<class 'dask.dataframe.core.DataFrame'>\n",
      "Columns: 46 entries, ID to Astronomical_Twilight\n",
      "dtypes: datetime64[ns](3), object(17), bool(13), float64(12), int64(1)"
     ]
    }
   ],
   "source": [
    "df1.info()"
   ]
  },
  {
   "cell_type": "markdown",
   "metadata": {},
   "source": [
    "- There are 17 features of datatype 'Object'\n",
    "- There are 13 features of datatype 'bool'\n",
    "- There are 12 features of datatype 'float64'\n",
    "- There is one features of datatype 'int64'\n",
    "- There are 3 features of datatype 'datetime64[ns]'"
   ]
  },
  {
   "cell_type": "code",
   "execution_count": 57,
   "metadata": {},
   "outputs": [
    {
     "name": "stdout",
     "output_type": "stream",
     "text": [
      "Index(['ID', 'Source', 'Description', 'Street', 'City', 'County', 'State',\n",
      "       'Zipcode', 'Country', 'Timezone', 'Airport_Code', 'Wind_Direction',\n",
      "       'Weather_Condition', 'Sunrise_Sunset', 'Civil_Twilight',\n",
      "       'Nautical_Twilight', 'Astronomical_Twilight'],\n",
      "      dtype='object')\n"
     ]
    }
   ],
   "source": [
    "string_columns = df1.select_dtypes(include='object').columns\n",
    "print(string_columns)"
   ]
  },
  {
   "cell_type": "markdown",
   "metadata": {},
   "source": [
    "The ID column is also a string column but it does not serve any purpose for analysis hence we are creating another list of columns excluding it"
   ]
  },
  {
   "cell_type": "code",
   "execution_count": 60,
   "metadata": {},
   "outputs": [
    {
     "name": "stdout",
     "output_type": "stream",
     "text": [
      "['Source', 'Description', 'Street', 'City', 'County', 'State', 'Zipcode', 'Country', 'Timezone', 'Airport_Code', 'Wind_Direction', 'Weather_Condition', 'Sunrise_Sunset', 'Civil_Twilight', 'Nautical_Twilight', 'Astronomical_Twilight']\n"
     ]
    }
   ],
   "source": [
    "string_columns_for_analysis = ['Source', 'Description', 'Street', 'City', 'County', 'State',\n",
    "       'Zipcode', 'Country', 'Timezone', 'Airport_Code', 'Wind_Direction',\n",
    "       'Weather_Condition', 'Sunrise_Sunset', 'Civil_Twilight',\n",
    "       'Nautical_Twilight', 'Astronomical_Twilight']\n",
    "print(string_columns_for_analysis)"
   ]
  },
  {
   "cell_type": "markdown",
   "metadata": {},
   "source": [
    "Finding the unique number of values in each of the Categorical features (object dataype columns)"
   ]
  },
  {
   "cell_type": "code",
   "execution_count": 62,
   "metadata": {},
   "outputs": [
    {
     "name": "stdout",
     "output_type": "stream",
     "text": [
      "         Source                                        Description   Street  \\\n",
      "unique        3                                            3761578   336306   \n",
      "count   7728394                                            7728389  7717525   \n",
      "top     Source1  A crash has occurred causing no to minimum del...   I-95 N   \n",
      "freq    4325632                                               9593    78430   \n",
      "\n",
      "           City       County    State  Zipcode  Country    Timezone  \\\n",
      "unique    13678         1871       49   825094        1           4   \n",
      "count   7728141      7728394  7728394  7726479  7728394     7720586   \n",
      "top       Miami  Los Angeles       CA    91761       US  US/Eastern   \n",
      "freq     186917       526851  1741433    11247  7728394     3580167   \n",
      "\n",
      "       Airport_Code Wind_Direction Weather_Condition Sunrise_Sunset  \\\n",
      "unique         2045             24               144              2   \n",
      "count       7705759        7553188           7554935        7705148   \n",
      "top            KCQT           CALM              Fair            Day   \n",
      "freq         118332         961624           2560802        5334553   \n",
      "\n",
      "       Civil_Twilight Nautical_Twilight Astronomical_Twilight  \n",
      "unique              2                 2                     2  \n",
      "count         7705148           7705148               7705148  \n",
      "top               Day               Day                   Day  \n",
      "freq          5695619           6076156               6377548  \n"
     ]
    }
   ],
   "source": [
    "unique_counts = df1[string_columns_for_analysis].describe(include=['object', 'category']).compute()\n",
    "\n",
    "# Print the unique counts\n",
    "print(unique_counts)"
   ]
  },
  {
   "cell_type": "markdown",
   "metadata": {},
   "source": [
    "The key findings are:\n",
    "\n",
    "- All the data is collected from only one Country that is US hence this feature can be dropped from the Dataset\n",
    "- The Dataset has data collected from 49 states of the US. The US has 50 states in total and one state is not part of this dataset.\n",
    "- The Dataset has data collected from  4 different timezones. The US has 6 different timezones and 2 are not part of this dataset.\n",
    "- The Sunrise_Sunset, Civil_Twilight, Nautical_Twilight and Astronomical_Twilight columns represent whether the accident happened during daytime or at night.\n",
    "\n",
    "Most number of accidents have happened at:\n",
    "- City: Miami (186917 accidents in total)\n",
    "- County: Los Angeles (526851 accidents in total)\n",
    "- State: California (1741433 accidents in total)\n",
    "- Timezone: US/Eastern (3580167 accidents in total)\n",
    "\n",
    "Most of the accidents have happened during the Daytime\n",
    "\n",
    "With respect to the weather conditions, the highest number of accidents have happened when:\n",
    "- The wind direction was calm\n",
    "- The weather condition was fair"
   ]
  },
  {
   "cell_type": "markdown",
   "metadata": {},
   "source": [
    "Let us check some statistics of the features of bool datatype"
   ]
  },
  {
   "cell_type": "code",
   "execution_count": 88,
   "metadata": {},
   "outputs": [
    {
     "name": "stdout",
     "output_type": "stream",
     "text": [
      "        Amenity     Bump Crossing Give_Way Junction  No_Exit  Railway  \\\n",
      "unique        2        2        2        2        2        2        2   \n",
      "count   7728394  7728394  7728394  7728394  7728394  7728394  7728394   \n",
      "top       False    False    False    False    False    False    False   \n",
      "freq    7632060  7724880  6854631  7691812  7157052  7708849  7661415   \n",
      "\n",
      "       Roundabout  Station     Stop Traffic_Calming Traffic_Signal  \\\n",
      "unique          2        2        2               2              2   \n",
      "count     7728394  7728394  7728394         7728394        7728394   \n",
      "top         False    False    False           False          False   \n",
      "freq      7728145  7526493  7514023         7720796        6584622   \n",
      "\n",
      "       Turning_Loop  \n",
      "unique            1  \n",
      "count       7728394  \n",
      "top           False  \n",
      "freq        7728394  \n"
     ]
    }
   ],
   "source": [
    "bool_cols = df1.select_dtypes(include=['bool']).columns\n",
    "bool_stats = df1[bool_cols].describe(include='all').compute()  # Trigger computation\n",
    "print(bool_stats)"
   ]
  },
  {
   "cell_type": "markdown",
   "metadata": {},
   "source": [
    "- The Variance of the boolean features is extremely less. All the boolean features are mostly having False value.\n",
    "- The 'Turning_Loop' feature has no variance at all. All the values are False hence we can drop from this feature from the dataset.\n",
    "\n",
    "For the remaining boolean features we can think about dropping them based on their correlation with the Predictor that is 'Severity'"
   ]
  },
  {
   "cell_type": "code",
   "execution_count": 93,
   "metadata": {},
   "outputs": [
    {
     "name": "stdout",
     "output_type": "stream",
     "text": [
      "Index(['Severity', 'Start_Lat', 'Start_Lng', 'End_Lat', 'End_Lng',\n",
      "       'Distance(mi)', 'Temperature(F)', 'Wind_Chill(F)', 'Humidity(%)',\n",
      "       'Pressure(in)', 'Visibility(mi)', 'Wind_Speed(mph)',\n",
      "       'Precipitation(in)'],\n",
      "      dtype='object')\n"
     ]
    }
   ],
   "source": [
    "numerical_columns = df1.select_dtypes(include='number').columns\n",
    "\n",
    "# Print or use the list as needed\n",
    "print(numerical_columns)"
   ]
  },
  {
   "cell_type": "code",
   "execution_count": 95,
   "metadata": {},
   "outputs": [
    {
     "name": "stdout",
     "output_type": "stream",
     "text": [
      "['Start_Lat', 'Start_Lng', 'End_Lat', 'End_Lng', 'Distance(mi)', 'Temperature(F)', 'Wind_Chill(F)', 'Humidity(%)', 'Pressure(in)', 'Visibility(mi)', 'Wind_Speed(mph)', 'Precipitation(in)']\n"
     ]
    }
   ],
   "source": [
    "numerical_columns_for_analysis = ['Start_Lat', 'Start_Lng', 'End_Lat', 'End_Lng',\n",
    "       'Distance(mi)', 'Temperature(F)', 'Wind_Chill(F)', 'Humidity(%)',\n",
    "       'Pressure(in)', 'Visibility(mi)', 'Wind_Speed(mph)',\n",
    "       'Precipitation(in)']\n",
    "print(numerical_columns_for_analysis)"
   ]
  },
  {
   "cell_type": "markdown",
   "metadata": {},
   "source": [
    "Checking the Statistics of the Dataset"
   ]
  },
  {
   "cell_type": "code",
   "execution_count": 104,
   "metadata": {},
   "outputs": [
    {
     "data": {
      "text/html": [
       "<div>\n",
       "<style scoped>\n",
       "    .dataframe tbody tr th:only-of-type {\n",
       "        vertical-align: middle;\n",
       "    }\n",
       "\n",
       "    .dataframe tbody tr th {\n",
       "        vertical-align: top;\n",
       "    }\n",
       "\n",
       "    .dataframe thead th {\n",
       "        text-align: right;\n",
       "    }\n",
       "</style>\n",
       "<table border=\"1\" class=\"dataframe\">\n",
       "  <thead>\n",
       "    <tr style=\"text-align: right;\">\n",
       "      <th></th>\n",
       "      <th>Severity</th>\n",
       "      <th>Start_Lat</th>\n",
       "      <th>Start_Lng</th>\n",
       "      <th>End_Lat</th>\n",
       "      <th>End_Lng</th>\n",
       "      <th>Distance(mi)</th>\n",
       "      <th>Temperature(F)</th>\n",
       "      <th>Wind_Chill(F)</th>\n",
       "      <th>Humidity(%)</th>\n",
       "      <th>Pressure(in)</th>\n",
       "      <th>Visibility(mi)</th>\n",
       "      <th>Wind_Speed(mph)</th>\n",
       "      <th>Precipitation(in)</th>\n",
       "    </tr>\n",
       "  </thead>\n",
       "  <tbody>\n",
       "    <tr>\n",
       "      <th>count</th>\n",
       "      <td>7.728394e+06</td>\n",
       "      <td>7.728394e+06</td>\n",
       "      <td>7.728394e+06</td>\n",
       "      <td>4.325632e+06</td>\n",
       "      <td>4.325632e+06</td>\n",
       "      <td>7.728394e+06</td>\n",
       "      <td>7.564541e+06</td>\n",
       "      <td>5.729375e+06</td>\n",
       "      <td>7.554250e+06</td>\n",
       "      <td>7.587715e+06</td>\n",
       "      <td>7.551296e+06</td>\n",
       "      <td>7.157161e+06</td>\n",
       "      <td>5.524808e+06</td>\n",
       "    </tr>\n",
       "    <tr>\n",
       "      <th>mean</th>\n",
       "      <td>2.212384e+00</td>\n",
       "      <td>3.620119e+01</td>\n",
       "      <td>-9.470255e+01</td>\n",
       "      <td>3.626183e+01</td>\n",
       "      <td>-9.572557e+01</td>\n",
       "      <td>5.618423e-01</td>\n",
       "      <td>6.166329e+01</td>\n",
       "      <td>5.825105e+01</td>\n",
       "      <td>6.483104e+01</td>\n",
       "      <td>2.953899e+01</td>\n",
       "      <td>9.090376e+00</td>\n",
       "      <td>7.685490e+00</td>\n",
       "      <td>8.407210e-03</td>\n",
       "    </tr>\n",
       "    <tr>\n",
       "      <th>std</th>\n",
       "      <td>4.875313e-01</td>\n",
       "      <td>5.076079e+00</td>\n",
       "      <td>1.739176e+01</td>\n",
       "      <td>5.272905e+00</td>\n",
       "      <td>1.810793e+01</td>\n",
       "      <td>1.776811e+00</td>\n",
       "      <td>1.901365e+01</td>\n",
       "      <td>2.238983e+01</td>\n",
       "      <td>2.282097e+01</td>\n",
       "      <td>1.006190e+00</td>\n",
       "      <td>2.688316e+00</td>\n",
       "      <td>5.424983e+00</td>\n",
       "      <td>1.102246e-01</td>\n",
       "    </tr>\n",
       "    <tr>\n",
       "      <th>min</th>\n",
       "      <td>1.000000e+00</td>\n",
       "      <td>2.455480e+01</td>\n",
       "      <td>-1.246238e+02</td>\n",
       "      <td>2.456601e+01</td>\n",
       "      <td>-1.245457e+02</td>\n",
       "      <td>0.000000e+00</td>\n",
       "      <td>-8.900000e+01</td>\n",
       "      <td>-8.900000e+01</td>\n",
       "      <td>1.000000e+00</td>\n",
       "      <td>0.000000e+00</td>\n",
       "      <td>0.000000e+00</td>\n",
       "      <td>0.000000e+00</td>\n",
       "      <td>0.000000e+00</td>\n",
       "    </tr>\n",
       "    <tr>\n",
       "      <th>25%</th>\n",
       "      <td>2.000000e+00</td>\n",
       "      <td>3.403331e+01</td>\n",
       "      <td>-9.791322e+01</td>\n",
       "      <td>3.403955e+01</td>\n",
       "      <td>-1.171198e+02</td>\n",
       "      <td>0.000000e+00</td>\n",
       "      <td>5.700000e+01</td>\n",
       "      <td>5.500000e+01</td>\n",
       "      <td>5.500000e+01</td>\n",
       "      <td>2.965000e+01</td>\n",
       "      <td>1.000000e+01</td>\n",
       "      <td>5.800000e+00</td>\n",
       "      <td>0.000000e+00</td>\n",
       "    </tr>\n",
       "    <tr>\n",
       "      <th>50%</th>\n",
       "      <td>2.000000e+00</td>\n",
       "      <td>3.886809e+01</td>\n",
       "      <td>-8.480862e+01</td>\n",
       "      <td>3.840524e+01</td>\n",
       "      <td>-8.491896e+01</td>\n",
       "      <td>1.360000e-01</td>\n",
       "      <td>7.000000e+01</td>\n",
       "      <td>6.900000e+01</td>\n",
       "      <td>7.500000e+01</td>\n",
       "      <td>2.996000e+01</td>\n",
       "      <td>1.000000e+01</td>\n",
       "      <td>8.100000e+00</td>\n",
       "      <td>0.000000e+00</td>\n",
       "    </tr>\n",
       "    <tr>\n",
       "      <th>75%</th>\n",
       "      <td>3.000000e+00</td>\n",
       "      <td>4.182733e+01</td>\n",
       "      <td>-8.004899e+01</td>\n",
       "      <td>4.182804e+01</td>\n",
       "      <td>-8.004850e+01</td>\n",
       "      <td>1.075000e+00</td>\n",
       "      <td>8.600000e+01</td>\n",
       "      <td>8.500000e+01</td>\n",
       "      <td>8.900000e+01</td>\n",
       "      <td>3.026000e+01</td>\n",
       "      <td>1.000000e+01</td>\n",
       "      <td>1.200000e+01</td>\n",
       "      <td>6.000000e-02</td>\n",
       "    </tr>\n",
       "    <tr>\n",
       "      <th>max</th>\n",
       "      <td>4.000000e+00</td>\n",
       "      <td>4.900220e+01</td>\n",
       "      <td>-6.711317e+01</td>\n",
       "      <td>4.907500e+01</td>\n",
       "      <td>-6.710924e+01</td>\n",
       "      <td>4.417500e+02</td>\n",
       "      <td>2.070000e+02</td>\n",
       "      <td>2.070000e+02</td>\n",
       "      <td>1.000000e+02</td>\n",
       "      <td>5.863000e+01</td>\n",
       "      <td>1.400000e+02</td>\n",
       "      <td>1.087000e+03</td>\n",
       "      <td>3.647000e+01</td>\n",
       "    </tr>\n",
       "  </tbody>\n",
       "</table>\n",
       "</div>"
      ],
      "text/plain": [
       "           Severity     Start_Lat     Start_Lng       End_Lat       End_Lng  \\\n",
       "count  7.728394e+06  7.728394e+06  7.728394e+06  4.325632e+06  4.325632e+06   \n",
       "mean   2.212384e+00  3.620119e+01 -9.470255e+01  3.626183e+01 -9.572557e+01   \n",
       "std    4.875313e-01  5.076079e+00  1.739176e+01  5.272905e+00  1.810793e+01   \n",
       "min    1.000000e+00  2.455480e+01 -1.246238e+02  2.456601e+01 -1.245457e+02   \n",
       "25%    2.000000e+00  3.403331e+01 -9.791322e+01  3.403955e+01 -1.171198e+02   \n",
       "50%    2.000000e+00  3.886809e+01 -8.480862e+01  3.840524e+01 -8.491896e+01   \n",
       "75%    3.000000e+00  4.182733e+01 -8.004899e+01  4.182804e+01 -8.004850e+01   \n",
       "max    4.000000e+00  4.900220e+01 -6.711317e+01  4.907500e+01 -6.710924e+01   \n",
       "\n",
       "       Distance(mi)  Temperature(F)  Wind_Chill(F)   Humidity(%)  \\\n",
       "count  7.728394e+06    7.564541e+06   5.729375e+06  7.554250e+06   \n",
       "mean   5.618423e-01    6.166329e+01   5.825105e+01  6.483104e+01   \n",
       "std    1.776811e+00    1.901365e+01   2.238983e+01  2.282097e+01   \n",
       "min    0.000000e+00   -8.900000e+01  -8.900000e+01  1.000000e+00   \n",
       "25%    0.000000e+00    5.700000e+01   5.500000e+01  5.500000e+01   \n",
       "50%    1.360000e-01    7.000000e+01   6.900000e+01  7.500000e+01   \n",
       "75%    1.075000e+00    8.600000e+01   8.500000e+01  8.900000e+01   \n",
       "max    4.417500e+02    2.070000e+02   2.070000e+02  1.000000e+02   \n",
       "\n",
       "       Pressure(in)  Visibility(mi)  Wind_Speed(mph)  Precipitation(in)  \n",
       "count  7.587715e+06    7.551296e+06     7.157161e+06       5.524808e+06  \n",
       "mean   2.953899e+01    9.090376e+00     7.685490e+00       8.407210e-03  \n",
       "std    1.006190e+00    2.688316e+00     5.424983e+00       1.102246e-01  \n",
       "min    0.000000e+00    0.000000e+00     0.000000e+00       0.000000e+00  \n",
       "25%    2.965000e+01    1.000000e+01     5.800000e+00       0.000000e+00  \n",
       "50%    2.996000e+01    1.000000e+01     8.100000e+00       0.000000e+00  \n",
       "75%    3.026000e+01    1.000000e+01     1.200000e+01       6.000000e-02  \n",
       "max    5.863000e+01    1.400000e+02     1.087000e+03       3.647000e+01  "
      ]
     },
     "execution_count": 104,
     "metadata": {},
     "output_type": "execute_result"
    }
   ],
   "source": [
    "df1.describe().compute()"
   ]
  },
  {
   "cell_type": "markdown",
   "metadata": {},
   "source": [
    "- The Severity which is our Lable (or) Predicted variable has values ranging from 1 to 4\n",
    "- The shortest distance affected by an accident is 0 miles whereas the longest distance affected by an accident is a whopping 441.75 miles\n",
    "- The average severity pf an accident is 2\n",
    "- The average distance affected by an accident is 0.56 miles\n",
    "- 75% of the accidents have affected the traffic for an approximate distance of 1 mile\n",
    "- 25% of the accidents have not affected the traffic at all\n",
    "- The average temperature in the areas where accidents have happened is around 61 F\n",
    "- 50% of the accidents have happened when there is no precipitation"
   ]
  },
  {
   "cell_type": "code",
   "execution_count": 99,
   "metadata": {},
   "outputs": [
    {
     "name": "stdout",
     "output_type": "stream",
     "text": [
      "Severity              2.212384\n",
      "Start_Lat            36.201195\n",
      "Start_Lng           -94.702545\n",
      "End_Lat              36.261829\n",
      "End_Lng             -95.725570\n",
      "Distance(mi)          0.561842\n",
      "Temperature(F)       61.663286\n",
      "Wind_Chill(F)        58.251048\n",
      "Humidity(%)          64.831041\n",
      "Pressure(in)         29.538986\n",
      "Visibility(mi)        9.090376\n",
      "Wind_Speed(mph)       7.685490\n",
      "Precipitation(in)     0.008407\n",
      "Amenity               0.012465\n",
      "Bump                  0.000455\n",
      "Crossing              0.113059\n",
      "Give_Way              0.004733\n",
      "Junction              0.073928\n",
      "No_Exit               0.002529\n",
      "Railway               0.008667\n",
      "Roundabout            0.000032\n",
      "Station               0.026125\n",
      "Stop                  0.027738\n",
      "Traffic_Calming       0.000983\n",
      "Traffic_Signal        0.147996\n",
      "Turning_Loop          0.000000\n",
      "dtype: float64\n"
     ]
    }
   ],
   "source": [
    "mean = df1.mean().compute()\n",
    "print(mean)"
   ]
  },
  {
   "cell_type": "code",
   "execution_count": 101,
   "metadata": {},
   "outputs": [
    {
     "name": "stdout",
     "output_type": "stream",
     "text": [
      "Severity              0.487531\n",
      "Start_Lat             5.076079\n",
      "Start_Lng            17.391756\n",
      "End_Lat               5.272905\n",
      "End_Lng              18.107928\n",
      "Distance(mi)          1.776811\n",
      "Temperature(F)       19.013653\n",
      "Wind_Chill(F)        22.389832\n",
      "Humidity(%)          22.820968\n",
      "Pressure(in)          1.006190\n",
      "Visibility(mi)        2.688316\n",
      "Wind_Speed(mph)       5.424983\n",
      "Precipitation(in)     0.110225\n",
      "Amenity               0.110949\n",
      "Bump                  0.021319\n",
      "Crossing              0.316665\n",
      "Give_Way              0.068637\n",
      "Junction              0.261653\n",
      "No_Exit               0.050225\n",
      "Railway               0.092690\n",
      "Roundabout            0.005676\n",
      "Station               0.159506\n",
      "Stop                  0.164222\n",
      "Traffic_Calming       0.031339\n",
      "Traffic_Signal        0.355096\n",
      "Turning_Loop          0.000000\n",
      "dtype: float64\n"
     ]
    }
   ],
   "source": [
    "std = df1.std().compute()\n",
    "print(std)"
   ]
  },
  {
   "cell_type": "code",
   "execution_count": 102,
   "metadata": {},
   "outputs": [
    {
     "name": "stdout",
     "output_type": "stream",
     "text": [
      "ID                                   A-1\n",
      "Source                           Source1\n",
      "Severity                               1\n",
      "Start_Time           2016-01-14 20:18:33\n",
      "End_Time             2016-02-08 06:37:08\n",
      "Start_Lat                        24.5548\n",
      "Start_Lng                    -124.623833\n",
      "End_Lat                        24.566013\n",
      "End_Lng                      -124.545748\n",
      "Distance(mi)                         0.0\n",
      "County                         Abbeville\n",
      "State                                 AL\n",
      "Country                               US\n",
      "Weather_Timestamp    2016-01-14 19:51:00\n",
      "Temperature(F)                     -89.0\n",
      "Wind_Chill(F)                      -89.0\n",
      "Humidity(%)                          1.0\n",
      "Pressure(in)                         0.0\n",
      "Visibility(mi)                       0.0\n",
      "Wind_Speed(mph)                      0.0\n",
      "Precipitation(in)                    0.0\n",
      "Amenity                            False\n",
      "Bump                               False\n",
      "Crossing                           False\n",
      "Give_Way                           False\n",
      "Junction                           False\n",
      "No_Exit                            False\n",
      "Railway                            False\n",
      "Roundabout                         False\n",
      "Station                            False\n",
      "Stop                               False\n",
      "Traffic_Calming                    False\n",
      "Traffic_Signal                     False\n",
      "Turning_Loop                       False\n",
      "dtype: object\n"
     ]
    }
   ],
   "source": [
    "min = df1.min().compute()\n",
    "print(min)"
   ]
  },
  {
   "cell_type": "markdown",
   "metadata": {},
   "source": [
    "The dataset has data about accidents which happened in the US starting from 14-Jan-2016"
   ]
  },
  {
   "cell_type": "code",
   "execution_count": 103,
   "metadata": {},
   "outputs": [
    {
     "name": "stdout",
     "output_type": "stream",
     "text": [
      "ID                              A-999999\n",
      "Source                           Source3\n",
      "Severity                               4\n",
      "Start_Time           2023-03-31 23:30:00\n",
      "End_Time             2023-03-31 23:59:00\n",
      "Start_Lat                      49.002201\n",
      "Start_Lng                     -67.113167\n",
      "End_Lat                           49.075\n",
      "End_Lng                       -67.109242\n",
      "Distance(mi)                      441.75\n",
      "County                           Ziebach\n",
      "State                                 WY\n",
      "Country                               US\n",
      "Weather_Timestamp    2023-03-31 23:53:00\n",
      "Temperature(F)                     207.0\n",
      "Wind_Chill(F)                      207.0\n",
      "Humidity(%)                        100.0\n",
      "Pressure(in)                       58.63\n",
      "Visibility(mi)                     140.0\n",
      "Wind_Speed(mph)                   1087.0\n",
      "Precipitation(in)                  36.47\n",
      "Amenity                             True\n",
      "Bump                                True\n",
      "Crossing                            True\n",
      "Give_Way                            True\n",
      "Junction                            True\n",
      "No_Exit                             True\n",
      "Railway                             True\n",
      "Roundabout                          True\n",
      "Station                             True\n",
      "Stop                                True\n",
      "Traffic_Calming                     True\n",
      "Traffic_Signal                      True\n",
      "Turning_Loop                       False\n",
      "dtype: object\n"
     ]
    }
   ],
   "source": [
    "max = df1.max().compute()\n",
    "print(max)"
   ]
  },
  {
   "cell_type": "markdown",
   "metadata": {},
   "source": [
    "The dataset has data about accidents which happened in the US till 31-March-2023"
   ]
  },
  {
   "cell_type": "markdown",
   "metadata": {},
   "source": [
    "Let's check the correlation between the numerical and boolean columns in the Dataset"
   ]
  },
  {
   "cell_type": "code",
   "execution_count": 107,
   "metadata": {},
   "outputs": [
    {
     "data": {
      "image/png": "[encoded data removed]",
      "text/plain": [
       "<Figure size 1440x1440 with 2 Axes>"
      ]
     },
     "metadata": {
      "needs_background": "light"
     },
     "output_type": "display_data"
    }
   ],
   "source": [
    "df_corr = df1.corr().compute()\n",
    "fig = plt.figure(figsize=(20,20))\n",
    "gs = fig.add_gridspec(1,1)\n",
    "gs.update(wspace=0.3, hspace=0.15)\n",
    "ax0 = fig.add_subplot(gs[0,0])\n",
    "\n",
    "color_palette = [\"#5833ff\",\"#da8829\"]\n",
    "mask = np.triu(np.ones_like(df_corr))\n",
    "ax0.text(1.5,-0.1,\"Correlation Matrix\",fontsize=22, fontweight='bold', fontfamily='serif', color=\"#000000\")\n",
    "df_corr = df1.corr().compute()\n",
    "sns.heatmap(df_corr,mask=mask,fmt=\".4f\",annot=True,cmap='YlGnBu',ax=ax0)\n",
    "plt.show()"
   ]
  },
  {
   "cell_type": "markdown",
   "metadata": {},
   "source": [
    "### Some of the findings form the Correlation matrix are\n",
    "- As expected, the Turning_Loop column has no correlation with any other column including the Dependent variable due to the fact that it had not Variance\n",
    "- The End_Lat column has a 100% positive correlation with the Start_Lat column. It had also significant amount of missing value hence we can drop that feature from the dataset before training\n",
    "- The End_Lng column has a 100% positive correlation with the Start_Lng column. It had also significant amount of missing value hence we can drop that feature from the dataset before training\n",
    "- The Traffic_Calming column has a 68% positive correlation with the Bump column which makes sense because vehicles usually slow down before hitting a speed bump\n",
    "- The Wind_Chill column has a 99% positive correlation with the Temperature column"
   ]
  },
  {
   "cell_type": "markdown",
   "metadata": {},
   "source": [
    "The below code will plot the distribution of the numerical variables against the Dependent variable. \n",
    "\n",
    "However due to limitations in my Laptop Hardware and the huge size of the Dataset, the below code was not executed successfully hence the code has been commented"
   ]
  },
  {
   "cell_type": "code",
   "execution_count": null,
   "metadata": {},
   "outputs": [],
   "source": [
    "'''\n",
    "fig = plt.figure(figsize=(18,18))\n",
    "gs = fig.add_gridspec(5,2)\n",
    "gs.update(wspace=0.5, hspace=0.5)\n",
    "ax0 = fig.add_subplot(gs[0,0])\n",
    "ax1 = fig.add_subplot(gs[0,1])\n",
    "ax2 = fig.add_subplot(gs[1,0])\n",
    "ax3 = fig.add_subplot(gs[1,1])\n",
    "ax4 = fig.add_subplot(gs[2,0])\n",
    "ax5 = fig.add_subplot(gs[2,1])\n",
    "ax6 = fig.add_subplot(gs[3,0])\n",
    "ax7 = fig.add_subplot(gs[3,1])\n",
    "ax8 = fig.add_subplot(gs[4,0])\n",
    "ax9 = fig.add_subplot(gs[4,1])\n",
    "ax10 = fig.add_subplot(gs[0,0])\n",
    "ax11 = fig.add_subplot(gs[0,1])\n",
    "ax12 = fig.add_subplot(gs[1,0])\n",
    "ax13 = fig.add_subplot(gs[1,1])\n",
    "ax14 = fig.add_subplot(gs[2,0])\n",
    "ax15 = fig.add_subplot(gs[2,1])\n",
    "ax16 = fig.add_subplot(gs[3,0])\n",
    "ax17 = fig.add_subplot(gs[3,1])\n",
    "ax18 = fig.add_subplot(gs[4,0])\n",
    "ax19 = fig.add_subplot(gs[4,1])\n",
    "\n",
    "background_color = \"#ffe6e6\"\n",
    "#color_palette = [\"#800000\",\"#8000ff\",\"#6aac90\",\"#5833ff\"]\n",
    "color_palette = [\"red\",\"green\",\"blue\",\"purple\"]\n",
    "fig.patch.set_facecolor(background_color) \n",
    "ax0.set_facecolor(background_color) \n",
    "ax1.set_facecolor(background_color) \n",
    "ax2.set_facecolor(background_color)\n",
    "ax3.set_facecolor(background_color)\n",
    "ax4.set_facecolor(background_color)\n",
    "ax5.set_facecolor(background_color) \n",
    "ax6.set_facecolor(background_color) \n",
    "ax7.set_facecolor(background_color)\n",
    "ax8.set_facecolor(background_color)\n",
    "ax9.set_facecolor(background_color)\n",
    "ax10.set_facecolor(background_color) \n",
    "ax11.set_facecolor(background_color) \n",
    "ax12.set_facecolor(background_color)\n",
    "ax13.set_facecolor(background_color)\n",
    "ax14.set_facecolor(background_color)\n",
    "ax15.set_facecolor(background_color) \n",
    "ax16.set_facecolor(background_color) \n",
    "ax17.set_facecolor(background_color)\n",
    "ax18.set_facecolor(background_color)\n",
    "ax19.set_facecolor(background_color)\n",
    "\n",
    "#Start_Lat title\n",
    "ax0.text(0.5,0.5,\"Distribution of Start_Lat\\naccording to\\n Severity\\n___________\",\n",
    "        horizontalalignment = 'center',\n",
    "        verticalalignment = 'center',\n",
    "        fontsize = 18,\n",
    "        fontweight='bold',\n",
    "        fontfamily='serif',\n",
    "        color='#000000')\n",
    "ax0.spines[\"bottom\"].set_visible(False)\n",
    "ax0.set_xticklabels([])\n",
    "ax0.set_yticklabels([])\n",
    "ax0.tick_params(left=False, bottom=False)\n",
    "\n",
    "#Start_Lat\n",
    "ax1.grid(color='#000000', linestyle=':', axis='y', zorder=0,  dashes=(1,5))\n",
    "sns.kdeplot(ax=ax1, data=df1, x='Start_Lat',hue=\"Severity\", fill=True,palette=color_palette, alpha=.5, linewidth=0)\n",
    "ax1.set_xlabel(\"\")\n",
    "ax1.set_ylabel(\"\")\n",
    "\n",
    "#Start_Lng title\n",
    "ax2.text(0.5,0.5,\"Distribution of Start_Lng\\naccording to\\n Severity\\n___________\",\n",
    "        horizontalalignment = 'center',\n",
    "        verticalalignment = 'center',\n",
    "        fontsize = 18,\n",
    "        fontweight='bold',\n",
    "        fontfamily='serif',\n",
    "        color='#000000')\n",
    "ax2.spines[\"bottom\"].set_visible(False)\n",
    "ax2.set_xticklabels([])\n",
    "ax2.set_yticklabels([])\n",
    "ax2.tick_params(left=False, bottom=False)\n",
    "\n",
    "#Start_Lng\n",
    "ax3.grid(color='#000000', linestyle=':', axis='y', zorder=0,  dashes=(1,5))\n",
    "sns.kdeplot(ax=ax3, data=df1, x='Start_Lng',hue=\"Severity\", fill=True,palette=color_palette, alpha=.5, linewidth=0)\n",
    "ax3.set_xlabel(\"\")\n",
    "ax3.set_ylabel(\"\")\n",
    "\n",
    "#Distance(mi) title\n",
    "ax4.text(0.5,0.5,\"Distribution of Distance(mi)\\naccording to\\n Severity\\n___________\",\n",
    "        horizontalalignment = 'center',\n",
    "        verticalalignment = 'center',\n",
    "        fontsize = 18,\n",
    "        fontweight='bold',\n",
    "        fontfamily='serif',\n",
    "        color='#000000')\n",
    "ax4.spines[\"bottom\"].set_visible(False)\n",
    "ax4.set_xticklabels([])\n",
    "ax4.set_yticklabels([])\n",
    "ax4.tick_params(left=False, bottom=False)\n",
    "\n",
    "#Distance(mi)\n",
    "ax5.grid(color='#000000', linestyle=':', axis='y', zorder=0,  dashes=(1,5))\n",
    "sns.kdeplot(ax=ax5, data=df1, x='Distance(mi)',hue=\"Severity\", fill=True,palette=color_palette, alpha=.5, linewidth=0)\n",
    "ax5.set_xlabel(\"\")\n",
    "ax5.set_ylabel(\"\")\n",
    "\n",
    "#Temperature title\n",
    "ax6.text(0.5,0.5,\"Distribution of Temperature\\naccording to\\n Severity\\n___________\",\n",
    "        horizontalalignment = 'center',\n",
    "        verticalalignment = 'center',\n",
    "        fontsize = 18,\n",
    "        fontweight='bold',\n",
    "        fontfamily='serif',\n",
    "        color='#000000')\n",
    "ax6.spines[\"bottom\"].set_visible(False)\n",
    "ax6.set_xticklabels([])\n",
    "ax6.set_yticklabels([])\n",
    "ax6.tick_params(left=False, bottom=False)\n",
    "\n",
    "#Temperature\n",
    "ax7.grid(color='#000000', linestyle=':', axis='y', zorder=0,  dashes=(1,5))\n",
    "sns.kdeplot(ax=ax7, data=df1, x='Temperature(F)',hue=\"Severity\", fill=True,palette=color_palette, alpha=.5, linewidth=0)\n",
    "ax7.set_xlabel(\"\")\n",
    "ax7.set_ylabel(\"\")\n",
    "\n",
    "#Wind_Chill(F) title\n",
    "\n",
    "ax8.text(0.5,0.5,\"Distribution of Wind_Chill\\naccording to\\n Severity\\n___________\",\n",
    "        horizontalalignment = 'center',\n",
    "        verticalalignment = 'center',\n",
    "        fontsize = 18,\n",
    "        fontweight='bold',\n",
    "        fontfamily='serif',\n",
    "        color='#000000')\n",
    "ax8.spines[\"bottom\"].set_visible(False)\n",
    "ax8.set_xticklabels([])\n",
    "ax8.set_yticklabels([])\n",
    "ax8.tick_params(left=False, bottom=False)\n",
    "\n",
    "#Wind_Cill(F)\n",
    "ax9.grid(color='#000000', linestyle=':', axis='y', zorder=0,  dashes=(1,5))\n",
    "sns.kdeplot(ax=ax9, data=df1, x='Wind_Chill(F)',hue=\"Severity\", fill=True,palette=color_palette, alpha=.5, linewidth=0)\n",
    "ax9.set_xlabel(\"\")\n",
    "ax9.set_ylabel(\"\")\n",
    "\n",
    "#Humidity(%) title\n",
    "\n",
    "ax8.text(0.5,0.5,\"Distribution of Humidity(%)\\naccording to\\n Severity\\n___________\",\n",
    "        horizontalalignment = 'center',\n",
    "        verticalalignment = 'center',\n",
    "        fontsize = 18,\n",
    "        fontweight='bold',\n",
    "        fontfamily='serif',\n",
    "        color='#000000')\n",
    "ax8.spines[\"bottom\"].set_visible(False)\n",
    "ax8.set_xticklabels([])\n",
    "ax8.set_yticklabels([])\n",
    "ax8.tick_params(left=False, bottom=False)\n",
    "\n",
    "#Humidity(%)\n",
    "ax9.grid(color='#000000', linestyle=':', axis='y', zorder=0,  dashes=(1,5))\n",
    "sns.kdeplot(ax=ax9, data=df1, x='Humidity(%)',hue=\"Severity\", fill=True,palette=color_palette, alpha=.5, linewidth=0)\n",
    "ax9.set_xlabel(\"\")\n",
    "ax9.set_ylabel(\"\")\n",
    "\n",
    "#Pressure(in)title\n",
    "\n",
    "ax8.text(0.5,0.5,\"Distribution of Pressure(in)\\naccording to\\n Severity\\n___________\",\n",
    "        horizontalalignment = 'center',\n",
    "        verticalalignment = 'center',\n",
    "        fontsize = 18,\n",
    "        fontweight='bold',\n",
    "        fontfamily='serif',\n",
    "        color='#000000')\n",
    "ax8.spines[\"bottom\"].set_visible(False)\n",
    "ax8.set_xticklabels([])\n",
    "ax8.set_yticklabels([])\n",
    "ax8.tick_params(left=False, bottom=False)\n",
    "\n",
    "#Pressure(in)\n",
    "ax9.grid(color='#000000', linestyle=':', axis='y', zorder=0,  dashes=(1,5))\n",
    "sns.kdeplot(ax=ax9, data=df1, x='Pressure(in)',hue=\"Severity\", fill=True,palette=color_palette, alpha=.5, linewidth=0)\n",
    "ax9.set_xlabel(\"\")\n",
    "ax9.set_ylabel(\"\")\n",
    "\n",
    "#Visibility(mi) title\n",
    "\n",
    "ax8.text(0.5,0.5,\"Distribution of Visibility(mi)\\naccording to\\n Severity\\n___________\",\n",
    "        horizontalalignment = 'center',\n",
    "        verticalalignment = 'center',\n",
    "        fontsize = 18,\n",
    "        fontweight='bold',\n",
    "        fontfamily='serif',\n",
    "        color='#000000')\n",
    "ax8.spines[\"bottom\"].set_visible(False)\n",
    "ax8.set_xticklabels([])\n",
    "ax8.set_yticklabels([])\n",
    "ax8.tick_params(left=False, bottom=False)\n",
    "\n",
    "#Visibility(mi)\n",
    "ax9.grid(color='#000000', linestyle=':', axis='y', zorder=0,  dashes=(1,5))\n",
    "sns.kdeplot(ax=ax9, data=df1, x='Visibility(mi)',hue=\"Severity\", fill=True,palette=color_palette, alpha=.5, linewidth=0)\n",
    "ax9.set_xlabel(\"\")\n",
    "ax9.set_ylabel(\"\")\n",
    "\n",
    "#Wind_Speed(mph) title\n",
    "\n",
    "ax8.text(0.5,0.5,\"Distribution of Wind_Speed(mph)\\naccording to\\n Severity\\n___________\",\n",
    "        horizontalalignment = 'center',\n",
    "        verticalalignment = 'center',\n",
    "        fontsize = 18,\n",
    "        fontweight='bold',\n",
    "        fontfamily='serif',\n",
    "        color='#000000')\n",
    "ax8.spines[\"bottom\"].set_visible(False)\n",
    "ax8.set_xticklabels([])\n",
    "ax8.set_yticklabels([])\n",
    "ax8.tick_params(left=False, bottom=False)\n",
    "\n",
    "#Wind_Speed(mph)\n",
    "ax9.grid(color='#000000', linestyle=':', axis='y', zorder=0,  dashes=(1,5))\n",
    "sns.kdeplot(ax=ax9, data=df1, x='Wind_Speed(mph)',hue=\"Severity\", fill=True,palette=color_palette, alpha=.5, linewidth=0)\n",
    "ax9.set_xlabel(\"\")\n",
    "ax9.set_ylabel(\"\")\n",
    "\n",
    "#Precipitation(in) title\n",
    "\n",
    "ax8.text(0.5,0.5,\"Distribution of Precipitation(in)\\naccording to\\n Severity\\n___________\",\n",
    "        horizontalalignment = 'center',\n",
    "        verticalalignment = 'center',\n",
    "        fontsize = 18,\n",
    "        fontweight='bold',\n",
    "        fontfamily='serif',\n",
    "        color='#000000')\n",
    "ax8.spines[\"bottom\"].set_visible(False)\n",
    "ax8.set_xticklabels([])\n",
    "ax8.set_yticklabels([])\n",
    "ax8.tick_params(left=False, bottom=False)\n",
    "\n",
    "#Precipitation(in)\n",
    "ax9.grid(color='#000000', linestyle=':', axis='y', zorder=0,  dashes=(1,5))\n",
    "sns.kdeplot(ax=ax9, data=df1, x='Precipitation(in)',hue=\"Severity\", fill=True,palette=color_palette, alpha=.5, linewidth=0)\n",
    "ax9.set_xlabel(\"\")\n",
    "ax9.set_ylabel(\"\")\n",
    "\n",
    "for i in [\"top\",\"left\",\"right\"]:\n",
    "    ax0.spines[i].set_visible(False)\n",
    "    ax1.spines[i].set_visible(False)\n",
    "    ax2.spines[i].set_visible(False)\n",
    "    ax3.spines[i].set_visible(False)\n",
    "    ax4.spines[i].set_visible(False)\n",
    "    ax5.spines[i].set_visible(False)\n",
    "    ax6.spines[i].set_visible(False)\n",
    "    ax7.spines[i].set_visible(False)\n",
    "    ax8.spines[i].set_visible(False)\n",
    "    ax9.spines[i].set_visible(False)\n",
    "    ax10.spines[i].set_visible(False)\n",
    "    ax11.spines[i].set_visible(False)\n",
    "    ax12.spines[i].set_visible(False)\n",
    "    ax13.spines[i].set_visible(False)\n",
    "    ax14.spines[i].set_visible(False)\n",
    "    ax15.spines[i].set_visible(False)\n",
    "    ax16.spines[i].set_visible(False)\n",
    "    ax17.spines[i].set_visible(False)\n",
    "    ax18.spines[i].set_visible(False)\n",
    "    ax19.spines[i].set_visible(False)\n",
    "'''  \n",
    "    "
   ]
  }
 ],
 "metadata": {
  "kernelspec": {
   "display_name": "base",
   "language": "python",
   "name": "python3"
  },
  "language_info": {
   "codemirror_mode": {
    "name": "ipython",
    "version": 3
   },
   "file_extension": ".py",
   "mimetype": "text/x-python",
   "name": "python",
   "nbconvert_exporter": "python",
   "pygments_lexer": "ipython3",
   "version": "3.9.7"
  }
 },
 "nbformat": 4,
 "nbformat_minor": 2
}
